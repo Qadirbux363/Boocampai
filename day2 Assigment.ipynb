{
 "cells": [
  {
   "cell_type": "markdown",
   "metadata": {},
   "source": [
    "# Qadir bux\n",
    "## Day2 Assigment"
   ]
  },
  {
   "cell_type": "markdown",
   "metadata": {},
   "source": [
    ".Make a list of 5 students and print the list."
   ]
  },
  {
   "cell_type": "code",
   "execution_count": 1,
   "metadata": {},
   "outputs": [
    {
     "name": "stdout",
     "output_type": "stream",
     "text": [
      "['Ali', 'Zeeshan', 'Younis', 'Qadir bux', 'Sajjad']\n"
     ]
    }
   ],
   "source": [
    "students = [\"Ali\", \"Zeeshan\", \"Younis\", \"Qadir bux\", \"Sajjad\"]\n",
    "print(students)"
   ]
  },
  {
   "cell_type": "markdown",
   "metadata": {},
   "source": [
    ".Add 2 more students in the list and print the updated list."
   ]
  },
  {
   "cell_type": "code",
   "execution_count": 2,
   "metadata": {},
   "outputs": [
    {
     "name": "stdout",
     "output_type": "stream",
     "text": [
      "After adding two new students:  ['Ali', 'Zeeshan', 'Younis', 'Qadir bux', 'Sajjad', 'Waqar', 'bilawal']\n"
     ]
    }
   ],
   "source": [
    "students.append(\"Waqar\")\n",
    "students.append(\"bilawal\")\n",
    "\n",
    "print(\"After adding two new students: \", students)"
   ]
  },
  {
   "cell_type": "markdown",
   "metadata": {},
   "source": [
    ".Remove 2 students from the list and print the updated list."
   ]
  },
  {
   "cell_type": "code",
   "execution_count": 3,
   "metadata": {},
   "outputs": [
    {
     "name": "stdout",
     "output_type": "stream",
     "text": [
      "After removing:  ['Zeeshan', 'Qadir bux', 'Sajjad', 'Waqar', 'bilawal']\n"
     ]
    }
   ],
   "source": [
    "students.remove(\"Ali\")\n",
    "students.remove(\"Younis\")\n",
    "print(\"After removing: \", students)"
   ]
  },
  {
   "cell_type": "markdown",
   "metadata": {},
   "source": [
    ".Sort the list in ascending order and print the updated list."
   ]
  },
  {
   "cell_type": "code",
   "execution_count": 4,
   "metadata": {},
   "outputs": [
    {
     "name": "stdout",
     "output_type": "stream",
     "text": [
      "After sorting:  ['Qadir bux', 'Sajjad', 'Waqar', 'Zeeshan', 'bilawal']\n"
     ]
    }
   ],
   "source": [
    "students.sort()\n",
    "print(\"After sorting: \", students)"
   ]
  },
  {
   "cell_type": "markdown",
   "metadata": {},
   "source": [
    ".Reverse the list and print the updated list."
   ]
  },
  {
   "cell_type": "code",
   "execution_count": 5,
   "metadata": {},
   "outputs": [
    {
     "name": "stdout",
     "output_type": "stream",
     "text": [
      "After reversing:  ['bilawal', 'Zeeshan', 'Waqar', 'Sajjad', 'Qadir bux']\n"
     ]
    }
   ],
   "source": [
    "students.reverse()\n",
    "print(\"After reversing: \", students)"
   ]
  },
  {
   "cell_type": "markdown",
   "metadata": {},
   "source": [
    ".Clear the list and print the updated list."
   ]
  },
  {
   "cell_type": "code",
   "execution_count": 6,
   "metadata": {},
   "outputs": [
    {
     "name": "stdout",
     "output_type": "stream",
     "text": [
      "After clearing:  []\n"
     ]
    }
   ],
   "source": [
    "students.clear()\n",
    "print(\"After clearing: \", students)"
   ]
  },
  {
   "cell_type": "markdown",
   "metadata": {},
   "source": [
    ".What is the difference between list and tuple?"
   ]
  },
  {
   "cell_type": "markdown",
   "metadata": {},
   "source": [
    "Ans Lists and Tuples in Python are two classes of Python Data Structures. The list structure is dynamic, and readily changed whereas the tuple structure is static and cannot be changed. This means that the tuple is generally faster than the list. Lists are denoted by square brackets and tuples are denoted with parenthesis."
   ]
  },
  {
   "cell_type": "markdown",
   "metadata": {},
   "source": [
    ".Make a tuple that contain only one item and print the type of the tuple."
   ]
  },
  {
   "cell_type": "code",
   "execution_count": 8,
   "metadata": {},
   "outputs": [
    {
     "name": "stdout",
     "output_type": "stream",
     "text": [
      "Clark\n"
     ]
    }
   ],
   "source": [
    "job = (\"Clark\")\n",
    "print(job)"
   ]
  },
  {
   "cell_type": "markdown",
   "metadata": {},
   "source": [
    ".Make a tuple of 5 items and print the tuple."
   ]
  },
  {
   "cell_type": "code",
   "execution_count": 9,
   "metadata": {},
   "outputs": [
    {
     "name": "stdout",
     "output_type": "stream",
     "text": [
      "('Clark', 'Maneger', 'Peyon', 'Gard', 'Office boy')\n"
     ]
    }
   ],
   "source": [
    "job = (\"Clark\",\"Maneger\",\"Peyon\",\"Gard\",\"Office boy\")\n",
    "print(job)"
   ]
  },
  {
   "cell_type": "markdown",
   "metadata": {},
   "source": [
    ".Find the index of a specific item in the tuple."
   ]
  },
  {
   "cell_type": "code",
   "execution_count": 10,
   "metadata": {},
   "outputs": [
    {
     "name": "stdout",
     "output_type": "stream",
     "text": [
      "Index of Mahmood is:  0\n"
     ]
    }
   ],
   "source": [
    "print(\"Index of Mahmood is: \",job.index(\"Clark\"))"
   ]
  },
  {
   "cell_type": "markdown",
   "metadata": {},
   "source": [
    ".Find the count of a specific item in the tuple"
   ]
  },
  {
   "cell_type": "code",
   "execution_count": 11,
   "metadata": {},
   "outputs": [
    {
     "name": "stdout",
     "output_type": "stream",
     "text": [
      "Occourance of Clark is:  1 Data oprater\n"
     ]
    }
   ],
   "source": [
    "print(\"Occourance of Clark is: \", job.count(\"Clark\"), \"Data oprater\")"
   ]
  },
  {
   "cell_type": "markdown",
   "metadata": {},
   "source": [
    ".Find the length of the tuple."
   ]
  },
  {
   "cell_type": "code",
   "execution_count": 12,
   "metadata": {},
   "outputs": [
    {
     "name": "stdout",
     "output_type": "stream",
     "text": [
      "length is:  5\n"
     ]
    }
   ],
   "source": [
    "print(\"length is: \", len(job))"
   ]
  },
  {
   "cell_type": "markdown",
   "metadata": {},
   "source": [
    ".Find the maximum and minimum item in the tuple"
   ]
  },
  {
   "cell_type": "code",
   "execution_count": 13,
   "metadata": {},
   "outputs": [
    {
     "name": "stdout",
     "output_type": "stream",
     "text": [
      "Minimum:  1\n",
      "Maximum:  20\n"
     ]
    }
   ],
   "source": [
    "numbers = (20,1,8,9,7,2)\n",
    "print(\"Minimum: \", min(numbers))\n",
    "print(\"Maximum: \", max(numbers))"
   ]
  },
  {
   "cell_type": "markdown",
   "metadata": {},
   "source": [
    ".Find the sum of all items in the tuple."
   ]
  },
  {
   "cell_type": "code",
   "execution_count": 14,
   "metadata": {},
   "outputs": [
    {
     "name": "stdout",
     "output_type": "stream",
     "text": [
      "sum =  47\n"
     ]
    }
   ],
   "source": [
    "print(\"sum = \", sum(numbers))"
   ]
  },
  {
   "cell_type": "markdown",
   "metadata": {},
   "source": [
    ".Sort the tuple in ascending order and print the updated tuple."
   ]
  },
  {
   "cell_type": "code",
   "execution_count": 15,
   "metadata": {},
   "outputs": [
    {
     "name": "stdout",
     "output_type": "stream",
     "text": [
      "sorted in asscending order:  [1, 2, 7, 8, 9, 20]\n"
     ]
    }
   ],
   "source": [
    "numbers = sorted(numbers)\n",
    "print(\"sorted in asscending order: \",numbers)"
   ]
  },
  {
   "cell_type": "markdown",
   "metadata": {},
   "source": [
    ".Sort the tuple in descending order and print the updated tuple."
   ]
  },
  {
   "cell_type": "code",
   "execution_count": 16,
   "metadata": {},
   "outputs": [
    {
     "name": "stdout",
     "output_type": "stream",
     "text": [
      "sorted in descending order:  [20, 9, 8, 7, 2, 1]\n"
     ]
    }
   ],
   "source": [
    "numbers = sorted(numbers, reverse=True)\n",
    "print(\"sorted in descending order: \",numbers)"
   ]
  },
  {
   "cell_type": "markdown",
   "metadata": {},
   "source": [
    ".Clear the tuple and print the updated tuple."
   ]
  },
  {
   "cell_type": "code",
   "execution_count": 17,
   "metadata": {},
   "outputs": [
    {
     "name": "stdout",
     "output_type": "stream",
     "text": [
      "After clearing:  []\n"
     ]
    }
   ],
   "source": [
    "numbers.clear()\n",
    "print(\"After clearing: \", numbers)"
   ]
  },
  {
   "cell_type": "markdown",
   "metadata": {},
   "source": [
    ".Concatenate two tuples and print the updated tuple."
   ]
  },
  {
   "cell_type": "code",
   "execution_count": 21,
   "metadata": {},
   "outputs": [
    {
     "name": "stdout",
     "output_type": "stream",
     "text": [
      "After concatination:  (1, 2, 3, 4, 5, 6, 7, 8)\n"
     ]
    }
   ],
   "source": [
    "t5 = (1,2,3,4)\n",
    "t2 = (5,6,7,8)\n",
    "t5+=t2\n",
    "print(\"After concatination: \", t5)"
   ]
  },
  {
   "cell_type": "markdown",
   "metadata": {},
   "source": [
    ".Repeat the tuple 3 times and print the updated tuple."
   ]
  },
  {
   "cell_type": "code",
   "execution_count": 22,
   "metadata": {},
   "outputs": [
    {
     "name": "stdout",
     "output_type": "stream",
     "text": [
      "After repeating 3 times:  (5, 6, 7, 8, 5, 6, 7, 8, 5, 6, 7, 8)\n"
     ]
    }
   ],
   "source": [
    "t2 = t2*3\n",
    "print(\"After repeating 3 times: \"  ,t2)"
   ]
  },
  {
   "cell_type": "code",
   "execution_count": null,
   "metadata": {},
   "outputs": [],
   "source": []
  },
  {
   "cell_type": "markdown",
   "metadata": {},
   "source": []
  },
  {
   "cell_type": "code",
   "execution_count": null,
   "metadata": {},
   "outputs": [],
   "source": []
  }
 ],
 "metadata": {
  "kernelspec": {
   "display_name": "Python 3",
   "language": "python",
   "name": "python3"
  },
  "language_info": {
   "codemirror_mode": {
    "name": "ipython",
    "version": 3
   },
   "file_extension": ".py",
   "mimetype": "text/x-python",
   "name": "python",
   "nbconvert_exporter": "python",
   "pygments_lexer": "ipython3",
   "version": "3.12.4"
  }
 },
 "nbformat": 4,
 "nbformat_minor": 2
}
