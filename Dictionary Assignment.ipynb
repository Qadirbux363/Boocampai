{
 "cells": [
  {
   "cell_type": "markdown",
   "metadata": {},
   "source": [
    "# Dictionary Assignment\n",
    "## What is the difference between list and dictionary?"
   ]
  },
  {
   "cell_type": "markdown",
   "metadata": {},
   "source": [
    "### Lists:\n",
    "Lists maintain the order of elements based on their insertion sequence.\n",
    "Mutable: Elements can be added, removed, or modified after the list is created.\n",
    "Access: Elements are accessed by their position (index) in the list.\n",
    "Syntax: Lists are defined using square brackets [], and elements are separated by commas.\n",
    "\n",
    "Example:\n",
    "\n",
    "my_list = [1, 2, 3, 4, 5]\n",
    "\n",
    "### Dictionaries:\n",
    " Dictionaries do not maintain any order among the elements. From Python 3.7 onward dictionariespreserveinsertion order.\n",
    "Mutable: Like lists, dictionaries can be modified after creation (elements can be added, removed, or modified).\n",
    "Key-Value Pairs: Elements are accessed by keys, which are unique within a dictionary.\n",
    "Syntax: Dictionaries are defined using curly braces {}, with key-value pairs separated by commas (key: value).\n",
    "\n",
    "Example:\n",
    "\n",
    "my_dict = {'name': 'John', 'age': 30, 'city': 'New York')"
   ]
  },
  {
   "cell_type": "code",
   "execution_count": 6,
   "metadata": {},
   "outputs": [],
   "source": [
    "Temperature_of_days = {\n",
    "    \n",
    "    \"Monday\" : 47,\n",
    "    \"Tuesday\" :   37,\n",
    "    \"Wednesday\" :   46,\n",
    "    \"Tursday\":        48,\n",
    "    \"Friday\":   50,\n",
    "    \"Sturday\":         10,\n",
    "    \"Sunday\" :  26,\n",
    "}"
   ]
  },
  {
   "cell_type": "markdown",
   "metadata": {},
   "source": [
    "## Print the dictionary"
   ]
  },
  {
   "cell_type": "code",
   "execution_count": 7,
   "metadata": {},
   "outputs": [
    {
     "name": "stdout",
     "output_type": "stream",
     "text": [
      "{'Monday': 47, 'Tuesday': 37, 'Wednesday': 46, 'Tursday': 48, 'Friday': 50, 'Sturday': 10, 'Sunday': 26}\n"
     ]
    }
   ],
   "source": [
    "print((Temperature_of_days))"
   ]
  },
  {
   "cell_type": "markdown",
   "metadata": {},
   "source": [
    "## Print the length of the dictionary"
   ]
  },
  {
   "cell_type": "code",
   "execution_count": 8,
   "metadata": {},
   "outputs": [
    {
     "name": "stdout",
     "output_type": "stream",
     "text": [
      "7\n"
     ]
    }
   ],
   "source": [
    "print(len(Temperature_of_days))"
   ]
  },
  {
   "cell_type": "markdown",
   "metadata": {},
   "source": [
    "## Print the value of a specific key.\n"
   ]
  },
  {
   "cell_type": "code",
   "execution_count": 9,
   "metadata": {},
   "outputs": [
    {
     "name": "stdout",
     "output_type": "stream",
     "text": [
      "Specific Temperature of Friday is  37\n"
     ]
    }
   ],
   "source": [
    "specific = Temperature_of_days[\"Friday\"] = 37\n",
    "print(\"Specific Temperature of Friday is \" , specific)"
   ]
  },
  {
   "cell_type": "markdown",
   "metadata": {},
   "source": [
    "Print all the keys of the dictionary## "
   ]
  },
  {
   "cell_type": "code",
   "execution_count": 10,
   "metadata": {},
   "outputs": [
    {
     "name": "stdout",
     "output_type": "stream",
     "text": [
      "All Specific key dict_keys(['Monday', 'Tuesday', 'Wednesday', 'Tursday', 'Friday', 'Sturday', 'Sunday'])\n"
     ]
    }
   ],
   "source": [
    "key = Temperature_of_days.keys()\n",
    "print(\"All Specific key\", key)\n"
   ]
  },
  {
   "cell_type": "markdown",
   "metadata": {},
   "source": [
    "## Print all the values of the dictionary."
   ]
  },
  {
   "cell_type": "code",
   "execution_count": 11,
   "metadata": {},
   "outputs": [
    {
     "name": "stdout",
     "output_type": "stream",
     "text": [
      "All Specific value dict_values([47, 37, 46, 48, 37, 10, 26])\n"
     ]
    }
   ],
   "source": [
    "val = Temperature_of_days.values()\n",
    "print(\"All Specific value\", val)"
   ]
  },
  {
   "cell_type": "markdown",
   "metadata": {},
   "source": [
    "## Add 2 more locations in the dictionary and print the updated dictionary."
   ]
  },
  {
   "cell_type": "code",
   "execution_count": 13,
   "metadata": {},
   "outputs": [
    {
     "name": "stdout",
     "output_type": "stream",
     "text": [
      "Updated Dictionary 69\n"
     ]
    },
    {
     "data": {
      "text/plain": [
       "{'Monday': 47,\n",
       " 'Tuesday': 37,\n",
       " 'Wednesday': 46,\n",
       " 'Tursday': 48,\n",
       " 'Friday': 37,\n",
       " 'Sturday': 10,\n",
       " 'Sunday': 26,\n",
       " 'not day': 69,\n",
       " 'yes day': 44}"
      ]
     },
     "execution_count": 13,
     "metadata": {},
     "output_type": "execute_result"
    }
   ],
   "source": [
    "upd = Temperature_of_days[\"not day\"] = 69\n",
    "Temperature_of_days[\"yes day\"] = 44\n",
    "\n",
    "print(\"Updated Dictionary\",upd)\n",
    "\n",
    "Temperature_of_days"
   ]
  },
  {
   "cell_type": "markdown",
   "metadata": {},
   "source": [
    "## Remove 2 locations from the dictionary and print the updated dictionary"
   ]
  },
  {
   "cell_type": "code",
   "execution_count": 14,
   "metadata": {},
   "outputs": [
    {
     "name": "stdout",
     "output_type": "stream",
     "text": [
      "After Removing {'Monday': 47, 'Tuesday': 37, 'Wednesday': 46, 'Tursday': 48, 'Friday': 37, 'Sturday': 10, 'Sunday': 26}\n"
     ]
    }
   ],
   "source": [
    "Temperature_of_days.pop('not day')\n",
    "Temperature_of_days.pop(\"yes day\")\n",
    "\n",
    "print(\"After Removing\", Temperature_of_days)"
   ]
  },
  {
   "cell_type": "markdown",
   "metadata": {},
   "source": [
    "## Copy the dictionary and print the copied dictionary."
   ]
  },
  {
   "cell_type": "code",
   "execution_count": 15,
   "metadata": {},
   "outputs": [
    {
     "name": "stdout",
     "output_type": "stream",
     "text": [
      "Dict After Copy {'Monday': 47, 'Tuesday': 37, 'Wednesday': 46, 'Tursday': 48, 'Friday': 37, 'Sturday': 10, 'Sunday': 26}\n"
     ]
    }
   ],
   "source": [
    "Temperature_of_days.copy()\n",
    "print(\"Dict After Copy\",Temperature_of_days)"
   ]
  },
  {
   "cell_type": "markdown",
   "metadata": {},
   "source": [
    "## Clear the dictionary and print the updated dictionary"
   ]
  },
  {
   "cell_type": "code",
   "execution_count": 16,
   "metadata": {},
   "outputs": [
    {
     "name": "stdout",
     "output_type": "stream",
     "text": [
      "{}\n"
     ]
    }
   ],
   "source": [
    "Temperature_of_days.clear()\n",
    "print(Temperature_of_days)"
   ]
  },
  {
   "cell_type": "markdown",
   "metadata": {},
   "source": [
    "## Delete the dictionary and print the dictionary."
   ]
  },
  {
   "cell_type": "code",
   "execution_count": 17,
   "metadata": {},
   "outputs": [],
   "source": [
    "del Temperature_of_days\n"
   ]
  },
  {
   "cell_type": "markdown",
   "metadata": {},
   "source": [
    "## What is the difference between = and == in Python?"
   ]
  },
  {
   "cell_type": "markdown",
   "metadata": {},
   "source": [
    "1.= (Assignment Operator):\n",
    "\n",
    "The = operator is used to assign a value to a variable. x = 5\n",
    "\n",
    "2.== (Equality Operator):\n",
    "\n",
    "The == operator is used to compare two values for equality. It returns True if the values on both sides are equal, and False otherwise.\n",
    "\n",
    "x = 5 y = 5 z = 10 print(x == y) # This will print True because x and y are both 5 print(x == z) # This will print False because x is 5 and z is 10"
   ]
  },
  {
   "cell_type": "markdown",
   "metadata": {},
   "source": [
    "## What is the difference between = and += in Python?"
   ]
  },
  {
   "cell_type": "markdown",
   "metadata": {},
   "source": [
    "1.= (Assignment Operator):\n",
    "\n",
    "The = operator is used to assign a value to a variable. x = 5\n",
    "\n",
    "2.+= (Addition Assignment Operator):\n",
    "\n",
    "The += operator is used to add the value on the right to the variable on the left and then assign the result back to the variable on the left. For example: python Copy code x = 5 x += 3 # Equivalent to x = x + 3"
   ]
  },
  {
   "cell_type": "markdown",
   "metadata": {},
   "source": [
    "## Write the python code to add your marks in 5 subjects and calculate the total marks. (i.e. 85, 95, 90, 80, 100)"
   ]
  },
  {
   "cell_type": "code",
   "execution_count": 25,
   "metadata": {},
   "outputs": [
    {
     "name": "stdout",
     "output_type": "stream",
     "text": [
      "Total marks :  450\n"
     ]
    }
   ],
   "source": [
    "IICT = 85\n",
    "DBS = 95\n",
    "DAS = 90\n",
    "DBS = 80\n",
    "IICT = 100\n",
    "\n",
    "total_marks = CCP + AC  +DSA + DBS + IICT\n",
    "\n",
    "print(\"Total marks : \", total_marks)"
   ]
  },
  {
   "cell_type": "markdown",
   "metadata": {},
   "source": [
    "## Write the python code to calculate the average of your marks"
   ]
  },
  {
   "cell_type": "code",
   "execution_count": 24,
   "metadata": {},
   "outputs": [
    {
     "name": "stdout",
     "output_type": "stream",
     "text": [
      "90.0\n"
     ]
    }
   ],
   "source": [
    "avg = total_marks/5\n",
    "print(avg)"
   ]
  },
  {
   "cell_type": "markdown",
   "metadata": {},
   "source": [
    "## Write the python code to calculate the percentage of your marks."
   ]
  },
  {
   "cell_type": "code",
   "execution_count": 26,
   "metadata": {},
   "outputs": [
    {
     "name": "stdout",
     "output_type": "stream",
     "text": [
      "100.0\n"
     ]
    }
   ],
   "source": [
    "percentage = (total_marks / 450 )*100\n",
    "print(percentage)"
   ]
  },
  {
   "cell_type": "markdown",
   "metadata": {},
   "source": [
    "## Write the python code to compare your marks with your friend's marks and print the result. (i.e. who got more marks) Hint: Use comparison operators. (\n",
    "your friend's marks: 85, 95, 90, 80, 100)"
   ]
  },
  {
   "cell_type": "code",
   "execution_count": 29,
   "metadata": {},
   "outputs": [
    {
     "name": "stdout",
     "output_type": "stream",
     "text": [
      "In subject 1, your friend got more marks (84) than you (72).\n",
      "In subject 2, your friend got more marks (94) than you (82).\n",
      "In subject 3, both you and your friend got the same marks (90).\n",
      "In subject 4, your friend got more marks (80) than you (70).\n",
      "In subject 5, your friend got more marks (100) than you (95).\n",
      "\n",
      "Did you get more marks than your friend in all subjects?\n",
      "No\n"
     ]
    }
   ],
   "source": [
    "# Marks of you and your friend in five subjects\n",
    "your_marks = [72, 82, 90, 70, 95]  # Replace with your actual marks\n",
    "friend_marks = [84, 94, 90, 80, 100]\n",
    "\n",
    "# Compare marks and print the result\n",
    "for i in range(len(your_marks)):\n",
    "    if your_marks[i] > friend_marks[i]:\n",
    "        print(f\"In subject {i+1}, you got more marks ({your_marks[i]}) than your friend ({friend_marks[i]}).\")\n",
    "    elif your_marks[i] < friend_marks[i]:\n",
    "        print(f\"In subject {i+1}, your friend got more marks ({friend_marks[i]}) than you ({your_marks[i]}).\")\n",
    "    else:\n",
    "        print(f\"In subject {i+1}, both you and your friend got the same marks ({your_marks[i]}).\")\n",
    "\n",
    "# Check if you got more marks than your friend in all subjects\n",
    "you_got_more_in_all = all(your_marks[i] > friend_marks[i] for i in range(len(your_marks)))\n",
    "print(\"\\nDid you get more marks than your friend in all subjects?\")\n",
    "print(\"Yes\" if you_got_more_in_all else \"No\")\n",
    "\n"
   ]
  },
  {
   "cell_type": "markdown",
   "metadata": {},
   "source": [
    "## Check if the number is even or odd"
   ]
  },
  {
   "cell_type": "code",
   "execution_count": 30,
   "metadata": {},
   "outputs": [
    {
     "name": "stdout",
     "output_type": "stream",
     "text": [
      "The number is even.\n"
     ]
    }
   ],
   "source": [
    "number = int(input(\"Enter a number: \"))\n",
    "\n",
    "if number % 2 == 0:\n",
    "    print(\"The number is even.\")\n",
    "else:\n",
    "    print(\"The number is odd.\")"
   ]
  },
  {
   "cell_type": "markdown",
   "metadata": {},
   "source": [
    "## Grade Calculator"
   ]
  },
  {
   "cell_type": "code",
   "execution_count": 32,
   "metadata": {},
   "outputs": [],
   "source": [
    "marks = float(input(\"Enter your marks: \"))\n",
    "\n",
    "if 90 <= marks <= 100:\n",
    "    grade = \"A+1\"\n",
    "elif 80 <= marks < 90:\n",
    "    grade = \"a\"\n",
    "elif 70 <= marks < 80:\n",
    "    grade = \"b\"\n",
    "elif 60 <= marks < 70:\n",
    "    grade = \"c\"\n",
    "else:\n",
    "    grade = \"FAIL\"\n"
   ]
  },
  {
   "cell_type": "markdown",
   "metadata": {},
   "source": [
    "## Give discount based on age"
   ]
  },
  {
   "cell_type": "code",
   "execution_count": 33,
   "metadata": {},
   "outputs": [
    {
     "name": "stdout",
     "output_type": "stream",
     "text": [
      "You get a 30% discount\n"
     ]
    }
   ],
   "source": [
    "age = int(input(\"Enter your age: \"))\n",
    "\n",
    "if 0 <= age <= 5:\n",
    "    discount = \"70% discount\"\n",
    "elif 5 < age <= 10:\n",
    "    discount = \"50% discount\"\n",
    "elif 10 < age <= 20:\n",
    "    discount = \"30% discount\"\n",
    "elif 20 < age <= 50:\n",
    "    discount = \"20% discount\"\n",
    "else:\n",
    "    discount = \"15% discount\"\n",
    "\n",
    "print(\"You get a\", discount)"
   ]
  }
 ],
 "metadata": {
  "kernelspec": {
   "display_name": "Python 3",
   "language": "python",
   "name": "python3"
  },
  "language_info": {
   "codemirror_mode": {
    "name": "ipython",
    "version": 3
   },
   "file_extension": ".py",
   "mimetype": "text/x-python",
   "name": "python",
   "nbconvert_exporter": "python",
   "pygments_lexer": "ipython3",
   "version": "3.12.4"
  }
 },
 "nbformat": 4,
 "nbformat_minor": 2
}
