{
  "cells": [
    {
      "cell_type": "markdown",
      "metadata": {},
      "source": [
        "# Variables and Data-type"
      ]
    },
    {
      "cell_type": "markdown",
      "metadata": {},
      "source": [
        "1. **Declare a variable called `myName` & assign to it a string that represents your Full Name.**"
      ]
    },
    {
      "cell_type": "code",
      "execution_count": 1,
      "metadata": {},
      "outputs": [
        {
          "name": "stdout",
          "output_type": "stream",
          "text": [
            "QADIR BUX\n"
          ]
        }
      ],
      "source": [
        "myname=\"QADIR BUX\"\n",
        "print(myname)"
      ]
    },
    {
      "cell_type": "markdown",
      "metadata": {},
      "source": [
        "2. **Declare a variable, titled `message` and assign “Hello World” to the variable `message` and print the message.**"
      ]
    },
    {
      "cell_type": "code",
      "execution_count": 2,
      "metadata": {},
      "outputs": [
        {
          "name": "stdout",
          "output_type": "stream",
          "text": [
            "Hello World\n"
          ]
        }
      ],
      "source": [
        "titled=\"Hello World\"\n",
        "print(titled)"
      ]
    },
    {
      "cell_type": "markdown",
      "metadata": {},
      "source": [
        "3. **Declare a variable called `email` & assign to it a string that represents your Email Address (e.g. abc@xyz.com).**\n",
        "   \n",
        "   Print the below mentioned message. *(Hint: use string concatenation)*.\n",
        "\n",
        "   **Expected output:** \n",
        "\n",
        "   My e-mail address is: abc@xyz.com"
      ]
    },
    {
      "cell_type": "code",
      "execution_count": 3,
      "metadata": {},
      "outputs": [
        {
          "name": "stdout",
          "output_type": "stream",
          "text": [
            "My e-mail address is dahriqadirbux12@gmail.com\n"
          ]
        }
      ],
      "source": [
        "email=\"dahriqadirbux12@gmail.com\"\n",
        "print(\"My e-mail address is\",email)"
      ]
    },
    {
      "cell_type": "markdown",
      "metadata": {},
      "source": [
        "4. **Declare a variable called `book` & give it the value “Think Python”. Print the following message:**, <br>\n",
        "I am trying to learn from the book ‘Think Python’\n"
      ]
    },
    {
      "cell_type": "code",
      "execution_count": 6,
      "metadata": {},
      "outputs": [
        {
          "name": "stdout",
          "output_type": "stream",
          "text": [
            "I am trying to learn from the book Think Pythan\n"
          ]
        }
      ],
      "source": [
        "book=\"Think Pythan\"\n",
        "print(\"I am trying to learn from the book\",book)"
      ]
    },
    {
      "cell_type": "markdown",
      "metadata": {},
      "source": [
        "**5. Declare the variables & show the details giving meaning to data.**\n",
        "\n",
        "**Student Bio Data**\n",
        "\n",
        "    Please Enter Your Name: Aisha Batool  \n",
        "    Please Enter Your Age: 17  \n",
        "    Please Enter Your University Name: Habib University  \n",
        "    Please Enter Your Course Name: Computational Thinking-1  \n",
        "\n",
        "**Expected Output:**\n",
        "\n",
        "    My name is Aisha Batool\n",
        "    I am 17 Years Old\n",
        "    I study in Habib University\n",
        "    I am enrolled in Computational Thinking-1 Course."
      ]
    },
    {
      "cell_type": "code",
      "execution_count": 8,
      "metadata": {},
      "outputs": [
        {
          "name": "stdout",
          "output_type": "stream",
          "text": [
            "My name is QADIR BUX\n",
            "I am 19 years old\n",
            "I study in  Sindh University\n",
            "I am enrolled in  IT\n"
          ]
        }
      ],
      "source": [
        "name=\"QADIR BUX\"\n",
        "age=19\n",
        "university_Name=\"Sindh University\"\n",
        "Course_Name=\"IT\"\n",
        "print(\"My name is\",name)\n",
        "print(\"I am\",age,\"years old\")\n",
        "print(\"I study in \",university_Name)\n",
        "print(\"I am enrolled in \",Course_Name)"
      ]
    },
    {
      "cell_type": "markdown",
      "metadata": {},
      "source": [
        "**6.  A visitor visits an online clothing store `www.xyzClothing.com`. Write a python script to store in variables the following information:**<br>\n",
        "    `a) Visitor’s name`<br>\n",
        "    `b) Product title`<br>\n",
        "    `c) Quantity i.e. how many products a visitor wants to order`<br>\n",
        "**Show the following message in your browser:**<br> `“John Doe ordered 5 T-shirt(s) on XYZ Clothing store”.`"
      ]
    },
    {
      "cell_type": "code",
      "execution_count": 1,
      "metadata": {},
      "outputs": [
        {
          "name": "stdout",
          "output_type": "stream",
          "text": [
            "Qadir bux ordered 10 Shirts on Sajjad Ali Clothing Store\n"
          ]
        }
      ],
      "source": [
        "shop_name = \"Sajjad Ali Clothing Store\"\n",
        "\n",
        "visitor_name = input(\"Input your name:\")\n",
        "\n",
        "order_quantity = int(input(\"Enter Quantity of products:\"))\n",
        "\n",
        "product_name = input(\"Enter Product name:\")\n",
        "\n",
        "print(visitor_name,\"ordered\", order_quantity, product_name, \"on\", shop_name)"
      ]
    },
    {
      "cell_type": "markdown",
      "metadata": {
        "id": "u0G3JlV7KQzg"
      },
      "source": [
        "**7. Write a program that obtains four integer values from the user and displays the sum & the product. <br>**\n",
        "`Insert 1st number:` 2 <br>\n",
        "`Insert 2nd number:` 5 <br>\n",
        "`Insert 3rd number:` 7 <br>\n",
        "`Insert 4th number:` 9<br>\n",
        "`Sum:` 23 <br>\n",
        "`Product:` 630 <br>"
      ]
    },
    {
      "cell_type": "code",
      "execution_count": 2,
      "metadata": {},
      "outputs": [
        {
          "name": "stdout",
          "output_type": "stream",
          "text": [
            "Sum is: 26\n",
            "Product : 1680\n"
          ]
        }
      ],
      "source": [
        "num1 = eval(input(\"Enter Number one:\"))\n",
        "num2 = eval(input(\"Enter Number Two:\"))\n",
        "num3 = eval(input(\"Enter Number Three:\"))\n",
        "num4 = eval(input(\"Enter Number Four:\"))\n",
        "\n",
        "Result = num1 + num2 + num3 + num4\n",
        "print(\"Sum is:\",Result)\n",
        "\n",
        "Result = num1 * num2 * num3 * num4\n",
        "print(\"Product :\" , Result)"
      ]
    },
    {
      "cell_type": "markdown",
      "metadata": {},
      "source": [
        "**8. Write a program that obtains `four` float values from the user and displays the `sum` & the `product`.**"
      ]
    },
    {
      "cell_type": "code",
      "execution_count": 3,
      "metadata": {},
      "outputs": [
        {
          "name": "stdout",
          "output_type": "stream",
          "text": [
            "Sum is: 11.2\n",
            "Product : 42.42809999999999\n"
          ]
        }
      ],
      "source": [
        "num1 = float(input(\"Enter Number one:\"))\n",
        "num2 = float(input(\"Enter Number Two:\"))\n",
        "num3 = float(input(\"Enter Number Three:\"))\n",
        "num4 = float(input(\"Enter Number Four:\"))\n",
        "\n",
        "Result = num1 + num2 + num3 + num4\n",
        "print(\"Sum is:\",Result)\n",
        "\n",
        "Result = num1 * num2 * num3 * num4\n",
        "print(\"Product :\" , Result)"
      ]
    },
    {
      "cell_type": "markdown",
      "metadata": {},
      "source": [
        "**9. Declare a variable called birthYear & assign to it your birth year. Also Print the type of your variable using type(). Print the following message:**\n",
        "\n",
        "My birth year is 1990  \n",
        "Data Type of my declared variable is `<class 'int'>`\n"
      ]
    },
    {
      "cell_type": "code",
      "execution_count": 13,
      "metadata": {},
      "outputs": [
        {
          "name": "stdout",
          "output_type": "stream",
          "text": [
            "My birth year is 2004\n",
            "Data Type of my declared variable is  <class 'int'>\n"
          ]
        }
      ],
      "source": [
        "birthYear=2004\n",
        "print(\"My birth year is\",birthYear)\n",
        "print(\"Data Type of my declared variable is \",type(birthYear))"
      ]
    },
    {
      "cell_type": "markdown",
      "metadata": {},
      "source": [
        "**10. Print the following by using one variable name only:**\n",
        "\n",
        "**PIZZA**  \n",
        "**PIZZ**  \n",
        "**PIZ**  \n",
        "**PI**  \n",
        "**P**\n"
      ]
    },
    {
      "cell_type": "code",
      "execution_count": 5,
      "metadata": {},
      "outputs": [
        {
          "name": "stdout",
          "output_type": "stream",
          "text": [
            "\n",
            "Pizza\n",
            "Pizz\n",
            "piz\n",
            "Pi\n",
            "p\n",
            "\n"
          ]
        }
      ],
      "source": [
        "p= \"\"\"\n",
        "Pizza\n",
        "Pizz\n",
        "piz\n",
        "Pi\n",
        "p\n",
        "\"\"\"\n",
        "print(p)"
      ]
    },
    {
      "cell_type": "markdown",
      "metadata": {
        "id": "cRnBt7a0SE4M"
      },
      "source": [
        "---\n",
        "### **Operators**\n",
        "---"
      ]
    },
    {
      "cell_type": "markdown",
      "metadata": {
        "id": "sWvHymMgu_Ll"
      },
      "source": [
        "**1. Write a program that takes two numbers & adds them in a new variable. Print the result.**\n",
        "\n",
        "Input Number 1: 13  \n",
        "Input Number 2: 9  \n",
        "Sum: 22\n"
      ]
    },
    {
      "cell_type": "code",
      "execution_count": 6,
      "metadata": {},
      "outputs": [
        {
          "name": "stdout",
          "output_type": "stream",
          "text": [
            "Sum is : 12\n"
          ]
        }
      ],
      "source": [
        "num1 = eval(input(\"Enter Number one:\"))\n",
        "num2 = eval(input(\"Enter Number Two:\"))\n",
        "\n",
        "result = num1 + num2\n",
        "\n",
        "print(f\"Sum is : {result}\")"
      ]
    },
    {
      "cell_type": "markdown",
      "metadata": {},
      "source": [
        "**2. Repeat Q1 for subtraction, multiplication, division & modulus.**\n",
        "\n",
        "Input Number 1: 13  \n",
        "Input Number 2: 9  \n",
        "Sum: 22  \n",
        "Subtract: 4  \n",
        "Multiply: 117  \n",
        "Divide: 1.44  \n",
        "Modulus: 4\n"
      ]
    },
    {
      "cell_type": "code",
      "execution_count": 9,
      "metadata": {},
      "outputs": [
        {
          "name": "stdout",
          "output_type": "stream",
          "text": [
            "Sum is: 42\n",
            "Subtract is: -16\n",
            "Multiply is: 377\n",
            "Divide is: 0.4482758620689655\n",
            "modulus is: 13\n"
          ]
        }
      ],
      "source": [
        "num1 = eval(input(\"Enter Number one:\"))\n",
        "num2 = eval(input(\"Enter Number Two:\"))\n",
        "\n",
        "result1 = num1 + num2\n",
        "result2 = num1 - num2\n",
        "result3 = num1 * num2\n",
        "result4 = num1 / num2\n",
        "result5 = num1 % num2\n",
        "\n",
        "print(f\"Sum is: {result1}\")\n",
        "print(f\"Subtract is: {result2}\")\n",
        "print(f\"Multiply is: {result3}\")\n",
        "print(f\"Divide is: {result4}\")\n",
        "print(f\"modulus is: {result5}\")"
      ]
    },
    {
      "cell_type": "markdown",
      "metadata": {},
      "source": [
        "**3. Do the following using Mathematic Expressions**\n",
        "\n",
        "a) Declare a variable & Initialize the variable with some number.  \n",
        "b) Show the value of variable in your browser like “Initial value: 3”.  \n",
        "c) Add 7 to the variable.  \n",
        "d) Show the value of variable in your browser like “Value after addition is: 10”.  \n",
        "e) Show the remainder after dividing the variable’s value by 3. Output: “The remainder is: 1”.\n"
      ]
    },
    {
      "cell_type": "code",
      "execution_count": 10,
      "metadata": {},
      "outputs": [
        {
          "name": "stdout",
          "output_type": "stream",
          "text": [
            "Initial value is: 2\n",
            "Value after addition : 8\n",
            "Remainder is: 2\n"
          ]
        }
      ],
      "source": [
        "num = 2\n",
        "print(f\"Initial value is: {num}\")\n",
        "\n",
        "after = num + 6\n",
        "print(f\"Value after addition : {after}\")\n",
        "\n",
        "remainder = after % 3\n",
        "print(f\"Remainder is: {remainder}\")"
      ]
    },
    {
      "cell_type": "markdown",
      "metadata": {},
      "source": [
        "**4. Cost of one movie ticket is 600 PKR. Store ticket price in a variable & calculate the cost of buying 5 tickets to a movie.**\n",
        "\n",
        "Total Cost to buy 5 tickets to a movie is 3000 PKR\n"
      ]
    },
    {
      "cell_type": "code",
      "execution_count": 12,
      "metadata": {},
      "outputs": [
        {
          "name": "stdout",
          "output_type": "stream",
          "text": [
            "Total Cost to buy 5 tickets to a movie is 3000 PKR\n"
          ]
        }
      ],
      "source": [
        "cost_one_movie = 600\n",
        "quantity = eval(input(\"Enter How many Tickets you take:\"))\n",
        "\n",
        "Result = cost_one_movie * quantity\n",
        "\n",
        "print(f\"Total Cost to buy {quantity} tickets to a movie is {Result} PKR\")"
      ]
    },
    {
      "cell_type": "markdown",
      "metadata": {},
      "source": [
        "**5. Take input total marks & marks obtained by a student. Compute the percentage & print the result.**\n",
        "\n",
        "Marks Sheet  \n",
        "Total Marks: 1200  \n",
        "Marks Obtained: 900  \n",
        "Percentage: 75%\n"
      ]
    },
    {
      "cell_type": "code",
      "execution_count": 14,
      "metadata": {},
      "outputs": [
        {
          "name": "stdout",
          "output_type": "stream",
          "text": [
            "Marks Sheet\n",
            "Percentage is: 75.0\n"
          ]
        }
      ],
      "source": [
        "print(\"Marks Sheet\")\n",
        "\n",
        "total_marks = eval(input(\"Enter Total Marks:\"))\n",
        "obt_marks = eval(input(\"Enter Obtained Marks:\"))\n",
        "\n",
        "percentage = (obt_marks/total_marks)*100\n",
        "print(f\"Percentage is: {percentage}\")"
      ]
    },
    {
      "cell_type": "markdown",
      "metadata": {},
      "source": [
        "**6. Write a program to implement the checkout process of a shopping cart system for an e-commerce website. Store the following in variables:**\n",
        "\n",
        "a) Price of item 1  \n",
        "b) Price of item 2  \n",
        "c) Ordered quantity of item 1  \n",
        "d) Ordered quantity of item 2  \n",
        "e) Shipping charges  \n",
        "\n",
        "Compute the total cost & print the receipt.  \n",
        "\n",
        "**Shopping Cart**\n",
        "\n",
        "Price of Item#1 is 560  \n",
        "Quantity of Item#1 is 2  \n",
        "Price of Item#2 is 200  \n",
        "Quantity of Item#2 is 5  \n",
        "Shipping Charges: 150  \n",
        "\n",
        "**Total Cost of your order is 2270 PKR**\n"
      ]
    },
    {
      "cell_type": "code",
      "execution_count": 15,
      "metadata": {},
      "outputs": [
        {
          "name": "stdout",
          "output_type": "stream",
          "text": [
            "Total cost of your order is 2270.0 PKR\n"
          ]
        }
      ],
      "source": [
        "item1_price = float(input(\"Enter Price of item1: \"))\n",
        "item1_quantity = int(input(\"Enter quantity of item1: \"))\n",
        "\n",
        "item2_price = float(input(\"Enter Price of item2: \"))\n",
        "item2_quantity = int(input(\"Enter Quantity of item2: \"))\n",
        "\n",
        "shipping_charge = float(input(\"Enter Shipping charges: \"))\n",
        "\n",
        "total_cost = item1_price * item1_quantity + item2_price * item2_quantity + shipping_charge\n",
        "\n",
        "print(f\"Total cost of your order is {total_cost} PKR\")"
      ]
    },
    {
      "cell_type": "markdown",
      "metadata": {
        "id": "Z3zXDznyW5cE"
      },
      "source": [
        "---\n",
        "## **Control Structure**\n"
      ]
    },
    {
      "cell_type": "markdown",
      "metadata": {
        "id": "8veqQrUbOPsh"
      },
      "source": [
        "### **Conditional Statements**\n",
        "---"
      ]
    },
    {
      "cell_type": "markdown",
      "metadata": {},
      "source": [
        "**1. Write a program to check whether the given input number is divisible by 3 or else show a message “Number is not divisible by 3”.**\n"
      ]
    },
    {
      "cell_type": "code",
      "execution_count": 16,
      "metadata": {},
      "outputs": [
        {
          "name": "stdout",
          "output_type": "stream",
          "text": [
            "Not Divisible by 3\n"
          ]
        }
      ],
      "source": [
        "num = eval(input(\"Enter a Number:\"))\n",
        "if num % 3 == 0:\n",
        "    print(\"Divisible\")\n",
        "    \n",
        "else:\n",
        "    print(\"Not Divisible by 3\")"
      ]
    },
    {
      "cell_type": "markdown",
      "metadata": {},
      "source": [
        "**2. Write a program that checks whether the given input is an even number or an odd number.**"
      ]
    },
    {
      "cell_type": "code",
      "execution_count": 17,
      "metadata": {},
      "outputs": [
        {
          "name": "stdout",
          "output_type": "stream",
          "text": [
            "Even Number\n"
          ]
        }
      ],
      "source": [
        "num = eval(input(\"Enter a Number:\"))\n",
        "\n",
        "if num % 2 == 0:\n",
        "    print(\"Even Number\")\n",
        "    \n",
        "    \n",
        "else:\n",
        "    print(\"odd Number\")\n"
      ]
    },
    {
      "cell_type": "markdown",
      "metadata": {},
      "source": [
        "**3. Write an if/else statement with the following condition:**\n",
        "\n",
        "If the variable `age` is greater than 18, output \"Old enough\", otherwise output \"Too young\".\n"
      ]
    },
    {
      "cell_type": "code",
      "execution_count": 19,
      "metadata": {},
      "outputs": [
        {
          "name": "stdout",
          "output_type": "stream",
          "text": [
            "your are Young\n"
          ]
        }
      ],
      "source": [
        "age = int(input(\"Enter Your age:\"))\n",
        "\n",
        "if age > 18:\n",
        "    print(\"old enough\")\n",
        "    \n",
        "else:\n",
        "    print(\"your are Young\")"
      ]
    },
    {
      "cell_type": "markdown",
      "metadata": {},
      "source": [
        "**4. Write a program that prompts the user for their name, and then displays a special greeting to that person if their name is the same as yours. If the name entered by the user is anything other than your name, your code should not produce any output.**"
      ]
    },
    {
      "cell_type": "code",
      "execution_count": 20,
      "metadata": {},
      "outputs": [
        {
          "name": "stdout",
          "output_type": "stream",
          "text": [
            "Greeting Qadir bux\n"
          ]
        }
      ],
      "source": [
        "name = input(\"Enter your Name:\")\n",
        "\n",
        "if name == \"Qadir bux\":\n",
        "    \n",
        "    print(f\"Greeting {name}\")\n",
        "\n",
        "\n",
        "else:\n",
        "    print(\"Do Not Match\")"
      ]
    },
    {
      "cell_type": "markdown",
      "metadata": {},
      "source": [
        "**5. Write a program that takes a calendar year in YYYY format in a variable. Check & notify the user whether it is a leap year or not.**"
      ]
    },
    {
      "cell_type": "code",
      "execution_count": 21,
      "metadata": {},
      "outputs": [
        {
          "name": "stdout",
          "output_type": "stream",
          "text": [
            "Leap Year\n"
          ]
        }
      ],
      "source": [
        "year = eval(input(\"Enter Year in format(YYYY):\"))\n",
        "\n",
        "if year % 4 == 0 and year % 100 !=0  or year % 400 == 0:\n",
        "    \n",
        "    print(\"Leap Year\")\n",
        "    \n",
        "else:\n",
        "    print(\"Not Leap Year\")"
      ]
    },
    {
      "cell_type": "markdown",
      "metadata": {},
      "source": [
        "**6. Write a Python program that accepts two integers and displays the larger. Also, show if the two integers are equal.**"
      ]
    },
    {
      "cell_type": "code",
      "execution_count": 22,
      "metadata": {},
      "outputs": [
        {
          "name": "stdout",
          "output_type": "stream",
          "text": [
            "Large Number is : 20\n"
          ]
        }
      ],
      "source": [
        "num1 = eval(input(\"Enter Number one:\"))\n",
        "num2 = eval(input(\"Enter Number Two:\"))\n",
        "\n",
        "if num1 > num2:\n",
        "    \n",
        "    print(f\"Large Number is : {num1}\")\n",
        "    \n",
        "elif num1 < num2:\n",
        "    \n",
        "    print(f\"Large Number is: {num2}\")\n",
        "    \n",
        "else:\n",
        "    \n",
        "    print(\"Both Are Equal\")"
      ]
    },
    {
      "cell_type": "markdown",
      "metadata": {},
      "source": [
        "**7. Write a program that takes a character (i.e., string of length 1) and returns true if it is a vowel, false otherwise.**"
      ]
    },
    {
      "cell_type": "code",
      "execution_count": 23,
      "metadata": {},
      "outputs": [
        {
          "name": "stdout",
          "output_type": "stream",
          "text": [
            "it is a Vowel: e\n"
          ]
        }
      ],
      "source": [
        "char = input(\"Enter Alphabet:\").lower()\n",
        "\n",
        "if char in  ['a','e','i','o','u']:\n",
        "    \n",
        "    print(f\"it is a Vowel: {char}\")\n",
        "    \n",
        "else:\n",
        "    print(\"They are consonent\")\n",
        "    "
      ]
    },
    {
      "cell_type": "markdown",
      "metadata": {},
      "source": [
        "**8. Write a program that**\n",
        "\n",
        "a) Stores the correct password in a variable.  \n",
        "b) Asks the user to enter his/her password.  \n",
        "c) Validates the two passwords:  \n",
        "            i. Check if the user has entered a password. If not, then give the message `\"Please enter your password\".`<br>\n",
        "            ii. Check if both passwords are the same. If they are the same, show the message `\"Correct! The password you entered matches the original password\".`<br>\n",
        "            iii. Show `\"Incorrect password\"` otherwise.\n"
      ]
    },
    {
      "cell_type": "code",
      "execution_count": 25,
      "metadata": {},
      "outputs": [
        {
          "name": "stdout",
          "output_type": "stream",
          "text": [
            "Incorrect password\n"
          ]
        }
      ],
      "source": [
        "password = \"asimraza128\"\n",
        "\n",
        "user_input = input(\"Enter password: \")\n",
        "\n",
        "if user_input == \"\":\n",
        "    print(\"Please enter your password\")\n",
        "    \n",
        "elif user_input == password:\n",
        "    print(\"Correct original password\")\n",
        "else:\n",
        "    print(\"Incorrect password\")"
      ]
    },
    {
      "cell_type": "markdown",
      "metadata": {},
      "source": [
        "**9. Write a program to display the message “Hello World” 5 times in your browser using while and for loop.**"
      ]
    },
    {
      "cell_type": "code",
      "execution_count": 27,
      "metadata": {},
      "outputs": [
        {
          "name": "stdout",
          "output_type": "stream",
          "text": [
            "HELLO WORLD\n",
            "HELLO WORLD\n",
            "HELLO WORLD\n",
            "HELLO WORLD\n",
            "HELLO WORLD\n"
          ]
        }
      ],
      "source": [
        "i = 5\n",
        "while i > 0:\n",
        "    \n",
        "    print(\"HELLO WORLD\")\n",
        "    \n",
        "    i-= 1\n",
        "    "
      ]
    },
    {
      "cell_type": "markdown",
      "metadata": {},
      "source": [
        "**10. Display numbers from a list using a for loop.**"
      ]
    },
    {
      "cell_type": "code",
      "execution_count": 28,
      "metadata": {},
      "outputs": [
        {
          "name": "stdout",
          "output_type": "stream",
          "text": [
            "List Of Numbers\n",
            "9 8 7 6 5 4 3 2 1 "
          ]
        }
      ],
      "source": [
        "print(\"List Of Numbers\")\n",
        "\n",
        "l = [9,8,7,6,5,4,3,2,1]\n",
        "\n",
        "for i in l:\n",
        "    print(i, end = \" \")"
      ]
    },
    {
      "cell_type": "markdown",
      "metadata": {},
      "source": [
        "**11. Print a list in reverse order using a loop.**"
      ]
    },
    {
      "cell_type": "code",
      "execution_count": 31,
      "metadata": {},
      "outputs": [
        {
          "name": "stdout",
          "output_type": "stream",
          "text": [
            "reverse List is :  [9, 8, 7, 6, 5, 4, 3, 2, 1]\n"
          ]
        }
      ],
      "source": [
        "l = [1,2,3,4,5,6,7,8,9]\n",
        "\n",
        "l_reversed = []\n",
        "\n",
        "for i in range(len(l) -1,-1,-1):\n",
        "    \n",
        "    l_reversed.append(l[i])\n",
        "    \n",
        "print(\"reverse List is : \" , l_reversed)    \n"
      ]
    },
    {
      "cell_type": "markdown",
      "metadata": {},
      "source": [
        "**12. Display the Fibonacci series up to 10 terms using a loop.**"
      ]
    },
    {
      "cell_type": "code",
      "execution_count": 32,
      "metadata": {},
      "outputs": [
        {
          "name": "stdout",
          "output_type": "stream",
          "text": [
            "Fibonacci Series\n",
            "0\n",
            "1\n",
            "1\n",
            "2\n",
            "3\n",
            "5\n",
            "8\n",
            "13\n",
            "21\n",
            "34\n"
          ]
        }
      ],
      "source": [
        "n1 = 0\n",
        "n2 = 1\n",
        "\n",
        "print(\"Fibonacci Series\")\n",
        "\n",
        "for i in range(10):\n",
        "    \n",
        "    print(n1)\n",
        "    \n",
        "    nth = n1 + n2\n",
        "    \n",
        "    n1 = n2\n",
        "    n2 = nth"
      ]
    },
    {
      "cell_type": "markdown",
      "metadata": {},
      "source": [
        "**13. Use a loop to display elements from a given list present at odd index positions.**"
      ]
    },
    {
      "cell_type": "code",
      "execution_count": 34,
      "metadata": {},
      "outputs": [
        {
          "name": "stdout",
          "output_type": "stream",
          "text": [
            "Element at odd index 1 is 200\n",
            "Element at odd index 3 is 400\n",
            "Element at odd index 5 is 600\n",
            "Element at odd index 7 is 800\n",
            "Element at odd index 9 is 1000\n"
          ]
        }
      ],
      "source": [
        "\n",
        "my_list = [100, 200, 300, 400, 500, 600, 700, 800, 900, 1000]\n",
        "\n",
        "\n",
        "for i in range(1, len(my_list), 2):\n",
        "    print(f\"Element at odd index {i} is {my_list[i]}\")"
      ]
    },
    {
      "cell_type": "markdown",
      "metadata": {},
      "source": [
        "**14. Write a program to enter numbers until the user enters zero, and at the end, display the count of positive and negative numbers entered.**"
      ]
    },
    {
      "cell_type": "code",
      "execution_count": 35,
      "metadata": {},
      "outputs": [
        {
          "name": "stdout",
          "output_type": "stream",
          "text": [
            "Positive Number Entered By User: 9\n",
            "Negetive Number Entered by user : 0\n"
          ]
        }
      ],
      "source": [
        "positive_num = 0\n",
        "negetive_num = 0\n",
        "\n",
        "while True:\n",
        "    \n",
        "    num = int(input(\"Enter a Number:\"))\n",
        "    \n",
        "    if num == 0:\n",
        "        break\n",
        "        \n",
        "    if num > 0:\n",
        "        \n",
        "        positive_num += 1\n",
        "        \n",
        "    if num < 0 :\n",
        "        \n",
        "        negetive_num += 1\n",
        "        \n",
        "print(f\"Positive Number Entered By User: {positive_num}\") \n",
        "\n",
        "print(f\"Negetive Number Entered by user : {negetive_num}\")"
      ]
    },
    {
      "cell_type": "markdown",
      "metadata": {},
      "source": [
        "**15. Write a program to print all the characters in the string 'PYTHON' using a loop.**"
      ]
    },
    {
      "cell_type": "code",
      "execution_count": 36,
      "metadata": {},
      "outputs": [
        {
          "name": "stdout",
          "output_type": "stream",
          "text": [
            "Characters are P\n",
            "Characters are Y\n",
            "Characters are T\n",
            "Characters are H\n",
            "Characters are O\n",
            "Characters are N\n"
          ]
        }
      ],
      "source": [
        "name = \"PYTHON\"\n",
        "\n",
        "for char in name:\n",
        "\n",
        "    print(f\"Characters are {char}\")"
      ]
    },
    {
      "cell_type": "markdown",
      "metadata": {},
      "source": [
        "**16. Write a program to repeatedly print the value of the variable num which is input by the user. Value should be decreasing by 0.5 each time, as long as the value remains positive.**\n",
        "\n",
        "Enter a number: 5  \n",
        "5, 4.5, 4, 3.5, 3, 2.5, 2, 1.5, 1, 0.5, 0"
      ]
    },
    {
      "cell_type": "code",
      "execution_count": 37,
      "metadata": {},
      "outputs": [
        {
          "name": "stdout",
          "output_type": "stream",
          "text": [
            "5, 4.5 4.0 3.5 3.0 2.5 2.0 1.5 1.0 0.5 0.0 "
          ]
        }
      ],
      "source": [
        "num = int(input(\"Enter a Number:\"))\n",
        "\n",
        "print(f\"{num}\", end=\", \")\n",
        "\n",
        "while num > 0:\n",
        "    \n",
        "    num -= 0.5\n",
        "    \n",
        "    if num >= 0:\n",
        "    \n",
        "        print(f\"{num}\" , end = \" \")"
      ]
    },
    {
      "cell_type": "markdown",
      "metadata": {
        "id": "fltLOerWIfx6"
      },
      "source": [
        "---\n",
        "### **Functions**\n",
        "---"
      ]
    },
    {
      "cell_type": "markdown",
      "metadata": {},
      "source": [
        "**1. Write a function that adds two numbers `(input by user)` and returns the sum of two numbers.**"
      ]
    },
    {
      "cell_type": "code",
      "execution_count": 38,
      "metadata": {},
      "outputs": [
        {
          "name": "stdout",
          "output_type": "stream",
          "text": [
            "Sum is: 17\n"
          ]
        }
      ],
      "source": [
        "def addition(num1,num2):\n",
        "    \n",
        "    result = num1 + num2\n",
        "    return result\n",
        "\n",
        "num1 = eval(input(\"Enter Number 1:\"))\n",
        "num2 = eval(input(\"Enter Number 2:\"))\n",
        "\n",
        "print(f\"Sum is: {addition(num1, num2)}\")"
      ]
    },
    {
      "cell_type": "markdown",
      "metadata": {},
      "source": [
        "**2. Calculator:**\n",
        "\n",
        "Write a function that takes three arguments `num1`, `num2`, and `operator` and computes the desired operation. Return and show the desired result on your screen.\n"
      ]
    },
    {
      "cell_type": "code",
      "execution_count": 43,
      "metadata": {},
      "outputs": [
        {
          "name": "stdout",
          "output_type": "stream",
          "text": [
            "Result is : None\n"
          ]
        }
      ],
      "source": [
        "def calculator(num1, num2, operator):\n",
        "    \n",
        "    if operator == '+':\n",
        "         return  num1 + num2\n",
        "        \n",
        "    elif operator == '-':\n",
        "        return num1 - num2\n",
        "        \n",
        "    elif operator == '*':\n",
        "        return  num1 * num2\n",
        "        \n",
        "    elif operator == '/':\n",
        "        return num1 / num2\n",
        "        \n",
        "        \n",
        "num1 = eval(input(\"Enter Number 1:\"))\n",
        "num2 = eval(input(\"Enter Number 2:\")) \n",
        "\n",
        "operator = input(\"Enter Operator(+,-,*,/):\")\n",
        "\n",
        "result = calculator(num1, num2, operator)\n",
        "\n",
        "print(f\"Result is : {result}\")\n",
        "        "
      ]
    },
    {
      "cell_type": "markdown",
      "metadata": {},
      "source": [
        "**3. Write a function that squares its argument.**"
      ]
    },
    {
      "cell_type": "code",
      "execution_count": 44,
      "metadata": {},
      "outputs": [
        {
          "name": "stdout",
          "output_type": "stream",
          "text": [
            "Square Of Given Number is: 36\n"
          ]
        }
      ],
      "source": [
        "def square(num):\n",
        "    \n",
        "    result = num **2\n",
        "    return result\n",
        "\n",
        "num = int(input(\"Enter a Number:\"))\n",
        "\n",
        "print(f\"Square Of Given Number is: {square(num)}\")"
      ]
    },
    {
      "cell_type": "markdown",
      "metadata": {},
      "source": [
        "**4. Write a function that calculates the area of a rectangle.**\n",
        "\n",
        "*A = width * height*\n",
        "\n",
        "`Pass width and height in the following manner:`<br>\n",
        "``a) Arguments as values``<br>\n",
        "``b) Arguments as variables``<br>\n"
      ]
    },
    {
      "cell_type": "code",
      "execution_count": 46,
      "metadata": {},
      "outputs": [
        {
          "name": "stdout",
          "output_type": "stream",
          "text": [
            "Area  Rectangle is: 150\n"
          ]
        }
      ],
      "source": [
        "def area_rectangle(height, width = 10):\n",
        "    \n",
        "    area = width * height\n",
        "    return area\n",
        "\n",
        "\n",
        "print(f\"Area  Rectangle is: {area_rectangle(15)}\")"
      ]
    },
    {
      "cell_type": "markdown",
      "metadata": {},
      "source": [
        "**5. Create 2 functions that calculate properties of a circle, using the definitions here.**\n",
        "\n",
        "a) Create a function called `calcCircumference`:\n",
        "   * Pass the radius to the function.\n",
        "   * Calculate the circumference based on the radius, and output \"The circumference is NN\".\n",
        "\n",
        "b) Create a function called `calcArea`:\n",
        "   * Pass the radius to the function.\n",
        "   * Calculate the area based on the radius, and output \"The area is NN\".\n"
      ]
    },
    {
      "cell_type": "code",
      "execution_count": 47,
      "metadata": {},
      "outputs": [
        {
          "name": "stdout",
          "output_type": "stream",
          "text": [
            "The Circumferance is : 25.132741228718345\n",
            "Area is : 78.53981633974483\n"
          ]
        }
      ],
      "source": [
        "import math\n",
        "\n",
        "def calCircumference(radius):\n",
        "    \n",
        "    result = 2 * math.pi * radius\n",
        "    return result\n",
        "\n",
        "print(f\"The Circumferance is : {calCircumference(4)}\")\n",
        "\n",
        "def calcArea(radius):\n",
        "    \n",
        "    area = math.pi * radius **2\n",
        "    return area\n",
        "\n",
        "print(f\"Area is : {calcArea(5)}\")"
      ]
    },
    {
      "cell_type": "markdown",
      "metadata": {},
      "source": [
        "**6. Write a Python program to create a lambda function that adds 15 to a given number passed in as an argument. Also, create a lambda function that multiplies argument x with argument y and prints the result.**"
      ]
    },
    {
      "cell_type": "code",
      "execution_count": 49,
      "metadata": {},
      "outputs": [
        {
          "name": "stdout",
          "output_type": "stream",
          "text": [
            "Result after adding 15 to: 5 is : 20\n",
            "Multiplication of x and y is 56.0\n"
          ]
        }
      ],
      "source": [
        "# Lambda function to add 15 to a given number\n",
        "add = lambda a : a + 15\n",
        "\n",
        "product = lambda x,y : x*y\n",
        "\n",
        "num = int(input(\"Enter a Number:\"))\n",
        "\n",
        "result = add(num)\n",
        "\n",
        "print(f\"Result after adding 15 to: {num} is : {result}\")\n",
        "\n",
        "x = float(input(\"Enter Value Of x:\"))\n",
        "y= float(input(\"Enter value of y:\"))\n",
        "\n",
        "result = product(x,y)\n",
        "\n",
        "print(f\"Multiplication of x and y is {result}\")"
      ]
    },
    {
      "cell_type": "markdown",
      "metadata": {},
      "source": [
        "**7. Write a Python program to sort a list of tuples using Lambda.**"
      ]
    },
    {
      "cell_type": "code",
      "execution_count": 50,
      "metadata": {},
      "outputs": [
        {
          "name": "stdout",
          "output_type": "stream",
          "text": [
            "[(1, 2, 3), (2, 3, 1), (4, 3, 1)]\n"
          ]
        }
      ],
      "source": [
        "\n",
        "tuple_list = [(4, 3, 1), (1, 2, 3), (2, 3, 1)]\n",
        "\n",
        "\n",
        "sorted_list = sorted(tuple_list, key=lambda x: x[0])\n",
        "\n",
        "print(sorted_list)"
      ]
    },
    {
      "cell_type": "markdown",
      "metadata": {},
      "source": [
        "**8. Check if a number is even or odd using a lambda function.**"
      ]
    },
    {
      "cell_type": "code",
      "execution_count": 51,
      "metadata": {},
      "outputs": [
        {
          "name": "stdout",
          "output_type": "stream",
          "text": [
            "6 is even: False\n",
            "6 is odd: True\n"
          ]
        }
      ],
      "source": [
        "is_even = lambda num : num % 2 == 0\n",
        "is_odd = lambda num : num % 2 != 0\n",
        "\n",
        "number = int(input(\"Enter a Number\"))\n",
        "\n",
        "print(f\"{number} is even: {is_even(num)}\")\n",
        "print(f\"{number} is odd: {is_odd(num)}\")"
      ]
    },
    {
      "cell_type": "markdown",
      "metadata": {},
      "source": [
        "**9. Given a list of numbers, find all numbers divisible by 13 using `filter()` and a lambda function.**"
      ]
    },
    {
      "cell_type": "code",
      "execution_count": 54,
      "metadata": {},
      "outputs": [
        {
          "name": "stdout",
          "output_type": "stream",
          "text": [
            "Divisible by 13 is: [13, 26, 39, 65, 78, 91, 117]\n"
          ]
        }
      ],
      "source": [
        "\n",
        "numbers = [13, 26, 39,60, 65, 78, 91, 100, 117]\n",
        "\n",
        "\n",
        "divisible_by_13 = list(filter(lambda x: x % 13 == 0, numbers))\n",
        "\n",
        "print(f\"Divisible by 13 is: {divisible_by_13}\")"
      ]
    },
    {
      "cell_type": "markdown",
      "metadata": {
        "id": "NpqCUBpvJBFJ"
      },
      "source": [
        "**10. Print Fibonacci series using recursion.**"
      ]
    },
    {
      "cell_type": "code",
      "execution_count": 57,
      "metadata": {},
      "outputs": [
        {
          "name": "stdout",
          "output_type": "stream",
          "text": [
            "Fibonacci Series\n",
            "1 1 2 3 5 8 13 21 34 55 89 144 233 377 610 987 "
          ]
        }
      ],
      "source": [
        "def fibonacci(n, n1=1, n2=1):\n",
        "    \n",
        "    if n < 0 :\n",
        "        return \n",
        "    \n",
        "    print(n1, end = \" \")\n",
        "    \n",
        "    return fibonacci(n-1, n2, n1 + n2)\n",
        "\n",
        "print(\"Fibonacci Series\")\n",
        "fibonacci(15)"
      ]
    },
    {
      "cell_type": "markdown",
      "metadata": {
        "id": "o_k4WDwwXnZD"
      },
      "source": [
        "---\n",
        "### **OOP**\n",
        "---"
      ]
    },
    {
      "cell_type": "markdown",
      "metadata": {},
      "source": [
        "**1. Write a Python program to create a Vehicle class with max_speed and mileage instance attributes.**"
      ]
    },
    {
      "cell_type": "code",
      "execution_count": 59,
      "metadata": {},
      "outputs": [
        {
          "name": "stdout",
          "output_type": "stream",
          "text": [
            "Max Speed: 299 km/h\n",
            "Mileage: 16000 km\n"
          ]
        }
      ],
      "source": [
        "class Vehicle:\n",
        "    def __init__(self, max_speed, mileage):\n",
        "        self.max_speed = max_speed\n",
        "        self.mileage = mileage\n",
        "\n",
        "    def display_info(self):\n",
        "        print(f\"Max Speed: {self.max_speed} km/h\")\n",
        "        print(f\"Mileage: {self.mileage} km\")\n",
        "\n",
        "\n",
        "bus = Vehicle(299, 16000)\n",
        "bus.display_info()\n"
      ]
    },
    {
      "cell_type": "markdown",
      "metadata": {},
      "source": [
        "**2. Create a child class Bus that will inherit all of the variables and methods of the Vehicle class.**\n",
        "\n",
        "Given:\n",
        "\n",
        "```python\n",
        "class Vehicle:\n",
        "    def __init__(self, name, max_speed, mileage):\n",
        "        self.name = name\n",
        "        self.max_speed = max_speed\n",
        "        self.mileage = mileage\n",
        "```\n",
        "Create a Bus object that will inherit all of the variables and methods of the parent Vehicle class and display it.\n",
        "\n",
        "**Expected Output:**\n",
        "`Vehicle Name: School Volvo Speed: 180 Mileage: 12`"
      ]
    },
    {
      "cell_type": "markdown",
      "metadata": {},
      "source": []
    },
    {
      "cell_type": "code",
      "execution_count": 61,
      "metadata": {},
      "outputs": [
        {
          "name": "stdout",
          "output_type": "stream",
          "text": [
            "Max Speed: 120 km/h\n",
            "Mileage: 7 km\n"
          ]
        }
      ],
      "source": [
        "class Vehicle:\n",
        "    def __init__(self, max_speed, mileage):\n",
        "        self.max_speed = max_speed\n",
        "        self.mileage = mileage\n",
        "\n",
        "class Bus(Vehicle):\n",
        "    def __init__(self, max_speed, mileage):\n",
        "        super().__init__(max_speed, mileage)  \n",
        "\n",
        "    def display_info(self):\n",
        "        print(f\"Max Speed: {self.max_speed} km/h\")\n",
        "        print(f\"Mileage: {self.mileage} km\")\n",
        "\n",
        "\n",
        "car = Bus(120, 7)\n",
        "\n",
        "\n",
        "car.display_info()"
      ]
    },
    {
      "cell_type": "markdown",
      "metadata": {},
      "source": [
        "**3. Write a Python program to create a class representing a shopping cart. Include methods for adding and removing items, and calculating the total price.**\n"
      ]
    },
    {
      "cell_type": "code",
      "execution_count": 73,
      "metadata": {},
      "outputs": [
        {
          "name": "stdout",
          "output_type": "stream",
          "text": [
            "Added 3 Apple(s) to the cart.\n",
            "Added 2 Banana(s) to the cart.\n",
            "Shopping Cart:\n",
            "3 of Apple at $0.99 each\n",
            "2 of Banana at $0.59 each\n",
            "Total: $4.15\n",
            "Removed Apple from the cart.\n",
            "Shopping Cart:\n",
            "2 of Banana at $0.59 each\n",
            "Total: $1.18\n"
          ]
        }
      ],
      "source": [
        "class ShoppingCart:\n",
        "    def __init__(self):\n",
        "        self.items = []\n",
        "    \n",
        "    def add_item(self, name, price, quantity):\n",
        "        self.items.append({\n",
        "            \"name\": name,\n",
        "            \"price\": price,\n",
        "            \"quantity\": quantity\n",
        "        })\n",
        "        print(f\"Added {quantity} {name}(s) to the cart.\")\n",
        "    \n",
        "    def remove_item(self, name):\n",
        "        for item in self.items:\n",
        "            if item['name'] == name:\n",
        "                self.items.remove(item)\n",
        "                print(f\"Removed {name} from the cart.\")\n",
        "                return\n",
        "        print(f\"{name} not found in the cart.\")\n",
        "    \n",
        "    def display_cart(self):\n",
        "        if not self.items:\n",
        "            print(\"Your cart is empty.\")\n",
        "        else:\n",
        "            print(\"Shopping Cart:\")\n",
        "            for item in self.items:\n",
        "                print(f\"{item['quantity']} of {item['name']} at ${item['price']} each\")\n",
        "            print(f\"Total: ${self.calculate_total():.2f}\")\n",
        "    \n",
        "    def calculate_total(self):\n",
        "        total = 0\n",
        "        for item in self.items:\n",
        "            total += item['price'] * item['quantity']\n",
        "        return total\n",
        "\n",
        "\n",
        "cart = ShoppingCart()\n",
        "\n",
        "\n",
        "cart.add_item(\"Apple\", 0.99, 3)\n",
        "cart.add_item(\"Banana\", 0.59, 2)\n",
        "\n",
        "\n",
        "cart.display_cart()\n",
        "\n",
        "\n",
        "cart.remove_item(\"Apple\")\n",
        "\n",
        "\n",
        "cart.display_cart()"
      ]
    },
    {
      "cell_type": "markdown",
      "metadata": {},
      "source": [
        "**4. Write a Python program to create a class representing a bank. Include methods for managing customer accounts and transactions.**\n"
      ]
    },
    {
      "cell_type": "code",
      "execution_count": 4,
      "metadata": {},
      "outputs": [
        {
          "name": "stdout",
          "output_type": "stream",
          "text": [
            "\n",
            "Bank Menu\n",
            "1. Create account\n",
            "2. Deposit money\n",
            "3. Withdraw money\n",
            "4. Check balance\n",
            "5. Exit\n",
            "Account created successfully.\n",
            "\n",
            "Bank Menu\n",
            "1. Create account\n",
            "2. Deposit money\n",
            "3. Withdraw money\n",
            "4. Check balance\n",
            "5. Exit\n",
            "Deposit successful.\n",
            "\n",
            "Bank Menu\n",
            "1. Create account\n",
            "2. Deposit money\n",
            "3. Withdraw money\n",
            "4. Check balance\n",
            "5. Exit\n",
            "Withdrawal successful.\n",
            "\n",
            "Bank Menu\n",
            "1. Create account\n",
            "2. Deposit money\n",
            "3. Withdraw money\n",
            "4. Check balance\n",
            "5. Exit\n",
            "Account balance: 2000.0\n",
            "\n",
            "Bank Menu\n",
            "1. Create account\n",
            "2. Deposit money\n",
            "3. Withdraw money\n",
            "4. Check balance\n",
            "5. Exit\n",
            "Invalid choice. Please try again.\n",
            "\n",
            "Bank Menu\n",
            "1. Create account\n",
            "2. Deposit money\n",
            "3. Withdraw money\n",
            "4. Check balance\n",
            "5. Exit\n",
            "Exiting...\n"
          ]
        }
      ],
      "source": [
        "class Bank:\n",
        "    def __init__(self):\n",
        "        self.customers = {}\n",
        "                \n",
        "    def create_account(self, account_number, balance=0):\n",
        "        if account_number in self.customers:\n",
        "            print(\"Account number already exists.\")\n",
        "        else:\n",
        "            self.customers[account_number] = balance\n",
        "            print(\"Account created successfully.\")\n",
        "                \n",
        "    def deposit(self, account_number, amount):\n",
        "        if account_number in self.customers:\n",
        "            self.customers[account_number] += amount\n",
        "            print(\"Deposit successful.\")\n",
        "        else:\n",
        "            print(\"Account number does not exist.\")\n",
        "                 \n",
        "    def withdraw(self, account_number, amount):\n",
        "        if account_number in self.customers:\n",
        "            if self.customers[account_number] >= amount:\n",
        "                self.customers[account_number] -= amount\n",
        "                print(\"Withdrawal successful.\")\n",
        "            else:\n",
        "                print(\"Insufficient funds.\")\n",
        "        else:\n",
        "            print(\"Account number does not exist.\")\n",
        "            \n",
        "    def check_balance(self, account_number):\n",
        "        if account_number in self.customers:\n",
        "            balance = self.customers[account_number]\n",
        "            print(f\"Account balance: {balance}\")\n",
        "        else:\n",
        "            print(\"Account number does not exist.\")   \n",
        "\n",
        "def main():\n",
        "    bank = Bank()\n",
        "    while True:\n",
        "        print(\"\\nBank Menu\")\n",
        "        print(\"1. Create account\")\n",
        "        print(\"2. Deposit money\")\n",
        "        print(\"3. Withdraw money\")\n",
        "        print(\"4. Check balance\")\n",
        "        print(\"5. Exit\")\n",
        "        \n",
        "        choice = input(\"Enter your choice: \")\n",
        "        \n",
        "        if choice == '1':\n",
        "            account_number = input(\"Enter account number: \")\n",
        "            initial_balance = float(input(\"Enter initial balance: \"))\n",
        "            bank.create_account(account_number, initial_balance)\n",
        "            \n",
        "        elif choice == '2':\n",
        "            account_number = input(\"Enter account number: \")\n",
        "            amount = float(input(\"Enter deposit amount: \"))\n",
        "            bank.deposit(account_number, amount)\n",
        "            \n",
        "        elif choice == '3':\n",
        "            account_number = input(\"Enter account number: \")\n",
        "            amount = float(input(\"Enter withdrawal amount: \"))\n",
        "            bank.withdraw(account_number, amount)\n",
        "            \n",
        "        elif choice == '4':\n",
        "            account_number = input(\"Enter account number: \")\n",
        "            bank.check_balance(account_number)\n",
        "            \n",
        "        elif choice == '5':\n",
        "            print(\"Exiting...\")\n",
        "            break\n",
        "        \n",
        "        else:\n",
        "            print(\"Invalid choice. Please try again.\")\n",
        "\n",
        "if __name__ == \"__main__\":\n",
        "    main()"
      ]
    },
    {
      "cell_type": "markdown",
      "metadata": {
        "id": "ZcxPDSvP-xs_"
      },
      "source": [
        "---\n",
        "### **File Handling**\n",
        "---"
      ]
    },
    {
      "cell_type": "markdown",
      "metadata": {},
      "source": [
        "**1. Write a function in Python to read the content from a text file \"your_file.txt\" line by line and display the same on the screen.**"
      ]
    },
    {
      "cell_type": "code",
      "execution_count": 28,
      "metadata": {},
      "outputs": [
        {
          "name": "stdout",
          "output_type": "stream",
          "text": [
            "HELLO EVERYONE QADIR BUX\n",
            "\n",
            "Currently enrolled in Ai BootCamp\n",
            "\n",
            "At SainCube Software solutions\n"
          ]
        },
        {
          "name": "stderr",
          "output_type": "stream",
          "text": [
            "<>:3: SyntaxWarning: invalid escape sequence '\\m'\n",
            "<>:3: SyntaxWarning: invalid escape sequence '\\m'\n",
            "C:\\Users\\deLL\\AppData\\Local\\Temp\\ipykernel_1112\\1927887369.py:3: SyntaxWarning: invalid escape sequence '\\m'\n",
            "  f = open(\"D:\\my.txt\", \"r\")\n"
          ]
        }
      ],
      "source": [
        "def file_read():\n",
        "    \n",
        "    f = open(\"D:\\my.txt\", \"r\")\n",
        "    \n",
        "    for line in f:\n",
        "        print(line)\n",
        "        \n",
        "    f.close()\n",
        "\n",
        "file_read()"
      ]
    },
    {
      "cell_type": "markdown",
      "metadata": {},
      "source": [
        "**2. Write a function in Python to count the number of lines from a text file \"story.txt\" which do not start with an alphabet \"T\".**"
      ]
    },
    {
      "cell_type": "code",
      "execution_count": 29,
      "metadata": {},
      "outputs": [
        {
          "name": "stdout",
          "output_type": "stream",
          "text": [
            "Number of lines not starting with 'T': 3\n"
          ]
        },
        {
          "name": "stderr",
          "output_type": "stream",
          "text": [
            "<>:3: SyntaxWarning: invalid escape sequence '\\m'\n",
            "<>:3: SyntaxWarning: invalid escape sequence '\\m'\n",
            "C:\\Users\\deLL\\AppData\\Local\\Temp\\ipykernel_1112\\1221485093.py:3: SyntaxWarning: invalid escape sequence '\\m'\n",
            "  with open(\"D:\\my.txt\", \"r\") as f:\n"
          ]
        }
      ],
      "source": [
        "def count_lines_not_starting_with_T():\n",
        "    count = 0\n",
        "    with open(\"D:\\my.txt\", \"r\") as f:\n",
        "        \n",
        "        for line in f:\n",
        "            if not line.startswith('T'):\n",
        "                count += 1\n",
        "    return count\n",
        "\n",
        "number_of_lines = count_lines_not_starting_with_T()\n",
        "print(f\"Number of lines not starting with 'T': {number_of_lines}\")"
      ]
    },
    {
      "cell_type": "markdown",
      "metadata": {},
      "source": [
        "**3. Write a function in Python to count and display the total number of words in a text file.**"
      ]
    },
    {
      "cell_type": "code",
      "execution_count": 32,
      "metadata": {},
      "outputs": [
        {
          "name": "stdout",
          "output_type": "stream",
          "text": [
            "Number of lines not starting with 'T': 26\n"
          ]
        },
        {
          "name": "stderr",
          "output_type": "stream",
          "text": [
            "<>:3: SyntaxWarning: invalid escape sequence '\\m'\n",
            "<>:3: SyntaxWarning: invalid escape sequence '\\m'\n",
            "C:\\Users\\deLL\\AppData\\Local\\Temp\\ipykernel_1112\\1221485093.py:3: SyntaxWarning: invalid escape sequence '\\m'\n",
            "  with open(\"D:\\my.txt\", \"r\") as f:\n"
          ]
        }
      ],
      "source": [
        "def count_lines_not_starting_with_T():\n",
        "    count = 0\n",
        "    with open(\"D:\\my.txt\", \"r\") as f:\n",
        "        \n",
        "        for line in f:\n",
        "            if not line.startswith('T'):\n",
        "                count += 1\n",
        "    return count\n",
        "\n",
        "number_of_lines = count_lines_not_starting_with_T()\n",
        "print(f\"Number of lines not starting with 'T': {number_of_lines}\")"
      ]
    },
    {
      "cell_type": "markdown",
      "metadata": {},
      "source": [
        "**4. Write a function in Python to read lines from a text file \"notes.txt\". Your function should find and display the occurrence of the word \"the\".**"
      ]
    },
    {
      "cell_type": "markdown",
      "metadata": {},
      "source": [
        "**5. A text file named \"matter.txt\" contains some text, which needs to be displayed such that every next character is separated by a symbol \"#\". Write a function definition for `hash_display()` in Python that would display the entire content of the file matter.txt in the desired format.**"
      ]
    },
    {
      "cell_type": "markdown",
      "metadata": {},
      "source": [
        "**6. Write a Python program that reads content from one file and writes it into another file.**"
      ]
    },
    {
      "cell_type": "markdown",
      "metadata": {},
      "source": [
        "**7. Write a Python program to find the most repeated word in a text file.**"
      ]
    },
    {
      "cell_type": "markdown",
      "metadata": {},
      "source": [
        "**8. Write a Python program to read specific lines from a file in Python.**\n"
      ]
    },
    {
      "cell_type": "markdown",
      "metadata": {},
      "source": [
        "**9. A binary file \"Book.dat\" has the structure [BookNo, Book_Name, Author, Price].**\n",
        "\n",
        "i. Write a user-defined function `createFile()` to input data for a record and add it to Book.dat.  \n",
        "ii. Write a function `countRec(Author)` in Python which accepts the Author name as a parameter and counts and returns the number of books by the given Author stored in the binary file \"Book.dat\".\n"
      ]
    },
    {
      "cell_type": "markdown",
      "metadata": {},
      "source": [
        "---\n",
        "### **Exception Handling**\n",
        "---"
      ]
    },
    {
      "cell_type": "markdown",
      "metadata": {},
      "source": [
        "**1. Write a Python program to handle a ZeroDivisionError exception when dividing a number by zero.**"
      ]
    },
    {
      "cell_type": "code",
      "execution_count": 13,
      "metadata": {},
      "outputs": [
        {
          "name": "stdout",
          "output_type": "stream",
          "text": [
            "Error: Division by zero is not allowed.\n"
          ]
        }
      ],
      "source": [
        "def divide_numbers(a, b):\n",
        "    try:\n",
        "        result = a / b\n",
        "        \n",
        "    except ZeroDivisionError:\n",
        "        return \"Error: Division by zero is not allowed.\"\n",
        "    \n",
        "    return result\n",
        "\n",
        "\n",
        "number_one = float(input(\"Enter the Number one: \"))\n",
        "number_two = float(input(\"Enter the Number Two: \"))\n",
        "\n",
        "result = divide_numbers(number_one, number_two)\n",
        "print(result)"
      ]
    },
    {
      "cell_type": "markdown",
      "metadata": {},
      "source": [
        "**2. Write a Python program that prompts the user to input an integer and raises a ValueError exception if the input is not a valid integer.**"
      ]
    },
    {
      "cell_type": "code",
      "execution_count": 14,
      "metadata": {},
      "outputs": [
        {
          "name": "stdout",
          "output_type": "stream",
          "text": [
            "Invalid input. Please enter a valid integer.\n"
          ]
        }
      ],
      "source": [
        "def get_integer():\n",
        "    \n",
        "    user_input = input(\"Enter an integer: \")\n",
        "    \n",
        "    try:\n",
        "        number = int(user_input)\n",
        "        return number\n",
        "    \n",
        "    except ValueError:\n",
        "        raise ValueError(\"Invalid input. Please enter a valid integer.\")\n",
        "\n",
        "\n",
        "try:\n",
        "    result = get_integer()\n",
        "    print(f\"You entered the integer: {result}\")\n",
        "    \n",
        "    \n",
        "except ValueError as e:\n",
        "    print(e)"
      ]
    },
    {
      "cell_type": "markdown",
      "metadata": {},
      "source": [
        "**3. Write a Python program that opens a file and handles a FileNotFoundError exception if the file does not exist.**"
      ]
    },
    {
      "cell_type": "code",
      "execution_count": 15,
      "metadata": {},
      "outputs": [
        {
          "name": "stdout",
          "output_type": "stream",
          "text": [
            "Error: The file 'poytry.text' does not exist.\n"
          ]
        }
      ],
      "source": [
        "def read_file(file_path):\n",
        "    try:\n",
        "        with open(file_path, 'r') as file:\n",
        "            content = file.read()\n",
        "        return content\n",
        "    \n",
        "    except FileNotFoundError:\n",
        "        return f\"Error: The file '{file_path}' does not exist.\"\n",
        "\n",
        "file_path = input(\"Enter the path to the file you want to read: \")\n",
        "content = read_file(file_path)\n",
        "print(content)"
      ]
    },
    {
      "cell_type": "markdown",
      "metadata": {},
      "source": [
        "**4. Write a Python program that prompts the user to input two numbers and raises a TypeError exception if the inputs are not numerical.**"
      ]
    },
    {
      "cell_type": "code",
      "execution_count": 17,
      "metadata": {},
      "outputs": [],
      "source": [
        "try:\n",
        "    num1 = eval(input(\"enter Number one:\"))\n",
        "    num2 = eval(input(\"enter Number two:\"))\n",
        "    \n",
        "    result = num1 + num2\n",
        "    \n",
        "except TypeError as e:\n",
        "    \n",
        "    print(\"Typer Error is shown\", e)"
      ]
    },
    {
      "cell_type": "markdown",
      "metadata": {},
      "source": [
        "**5. Write a Python program that executes an operation on a list and handles an IndexError exception if the index is out of range.**"
      ]
    },
    {
      "cell_type": "code",
      "execution_count": 24,
      "metadata": {},
      "outputs": [
        {
          "name": "stdout",
          "output_type": "stream",
          "text": [
            "Error: Index is out of range for the list. Enter an index between 0 and 3.\n"
          ]
        }
      ],
      "source": [
        "my_list = [3, 7, 12, 5]\n",
        "\n",
        "try:\n",
        "    index = int(input(f\"Enter an index (0 to {len(my_list)-1}): \"))\n",
        "    value = my_list[index]\n",
        "    print(value)\n",
        "\n",
        "except IndexError:\n",
        "    print(f\"Error: Index is out of range for the list. Enter an index between 0 and {len(my_list)-1}.\")"
      ]
    },
    {
      "cell_type": "markdown",
      "metadata": {},
      "source": [
        "**6. Define a custom exception called NegativeNumberError. Write a program that asks the user for a positive number and raises this exception if the user inputs a negative number.**"
      ]
    },
    {
      "cell_type": "code",
      "execution_count": 21,
      "metadata": {},
      "outputs": [
        {
          "name": "stdout",
          "output_type": "stream",
          "text": [
            "You entered: 7.0\n"
          ]
        }
      ],
      "source": [
        "class NegativeNumberError(Exception):\n",
        "    def __init__(self, message=\"Negative numbers are not allowed.\"):\n",
        "        self.message = message\n",
        "        super().__init__(self.message)\n",
        "\n",
        "\n",
        "try:\n",
        "    number = float(input(\"Enter a positive number: \"))\n",
        "    if number < 0:\n",
        "        raise NegativeNumberError\n",
        "    print(f\"You entered: {number}\")\n",
        "    \n",
        "except NegativeNumberError as e:\n",
        "    print(f\"Error: {e}\")"
      ]
    }
  ],
  "metadata": {
    "colab": {
      "collapsed_sections": [
        "iSQCl3G5RYiy",
        "1J1SoBzkrC20",
        "om4dtaZgReBb",
        "wCIvkzL4I0F5",
        "e8bSitFfCJ34",
        "VgBwDwEyDfwb",
        "Z3zXDznyW5cE"
      ],
      "provenance": []
    },
    "kernelspec": {
      "display_name": "Python 3",
      "name": "python3"
    },
    "language_info": {
      "codemirror_mode": {
        "name": "ipython",
        "version": 3
      },
      "file_extension": ".py",
      "mimetype": "text/x-python",
      "name": "python",
      "nbconvert_exporter": "python",
      "pygments_lexer": "ipython3",
      "version": "3.12.4"
    }
  },
  "nbformat": 4,
  "nbformat_minor": 0
}
