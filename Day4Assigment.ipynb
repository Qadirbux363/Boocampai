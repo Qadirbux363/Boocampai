{
 "cells": [
  {
   "cell_type": "markdown",
   "metadata": {},
   "source": [
    "## Qadir Bux\n",
    "### ASSIGNMENT DAY4\n",
    "### FUNCTION"
   ]
  },
  {
   "cell_type": "markdown",
   "metadata": {},
   "source": [
    "## Area of circle"
   ]
  },
  {
   "cell_type": "code",
   "execution_count": 4,
   "metadata": {},
   "outputs": [
    {
     "name": "stdout",
     "output_type": "stream",
     "text": [
      "Area Of Circle :  9.42477796076938\n"
     ]
    }
   ],
   "source": [
    "import math\n",
    "def area_circle(radius):\n",
    "    \n",
    "    area = math.pi * (radius **1)\n",
    "    \n",
    "    return area\n",
    "        \n",
    "print(\"Area Of Circle : \",  area_circle(3))  \n",
    "    "
   ]
  },
  {
   "cell_type": "markdown",
   "metadata": {},
   "source": [
    "## Area of Rectangle"
   ]
  },
  {
   "cell_type": "code",
   "execution_count": 5,
   "metadata": {},
   "outputs": [
    {
     "name": "stdout",
     "output_type": "stream",
     "text": [
      "Area Of Rectangle :  15\n"
     ]
    }
   ],
   "source": [
    "def area_rect(length, width):\n",
    "    \n",
    "    area = length * width\n",
    "    \n",
    "    return area\n",
    "\n",
    "print(\"Area Of Rectangle : \" , area_rect(3,5))\n"
   ]
  },
  {
   "cell_type": "markdown",
   "metadata": {},
   "source": [
    "##Area Of Triangle "
   ]
  },
  {
   "cell_type": "code",
   "execution_count": 6,
   "metadata": {},
   "outputs": [
    {
     "name": "stdout",
     "output_type": "stream",
     "text": [
      "Area of Triangle: 7.5\n"
     ]
    }
   ],
   "source": [
    "def area_Triangle(base, height):\n",
    "    \n",
    "    area = 1/2 * (base * height)\n",
    "    \n",
    "    return area\n",
    "\n",
    "print(\"Area of Triangle:\", area_Triangle(3, 5))"
   ]
  },
  {
   "cell_type": "markdown",
   "metadata": {},
   "source": [
    "## Area Of Square"
   ]
  },
  {
   "cell_type": "code",
   "execution_count": 8,
   "metadata": {},
   "outputs": [
    {
     "name": "stdout",
     "output_type": "stream",
     "text": [
      "Area of square is :  2\n"
     ]
    }
   ],
   "source": [
    "def area_square(a):\n",
    "    \n",
    "    area = a ** 1\n",
    "    \n",
    "    return area\n",
    "\n",
    "print(\"Area of square is : \" , area_square(2))"
   ]
  },
  {
   "cell_type": "markdown",
   "metadata": {},
   "source": [
    "## Write a python function to calculate the sum of all numbers in a list"
   ]
  },
  {
   "cell_type": "code",
   "execution_count": 9,
   "metadata": {},
   "outputs": [
    {
     "name": "stdout",
     "output_type": "stream",
     "text": [
      "Sum of Numbers in List :  60\n"
     ]
    }
   ],
   "source": [
    "def sum_of_list():\n",
    "    \n",
    "    list = [4,8,12,16,20]\n",
    "    \n",
    "    result = sum(list)\n",
    "    \n",
    "    return result\n",
    "\n",
    "print(\"Sum of Numbers in List : \" , sum_of_list())"
   ]
  },
  {
   "cell_type": "markdown",
   "metadata": {},
   "source": [
    "## Write a python function to calculate the average of all numbers in a list."
   ]
  },
  {
   "cell_type": "code",
   "execution_count": 10,
   "metadata": {},
   "outputs": [
    {
     "name": "stdout",
     "output_type": "stream",
     "text": [
      "Average of all: 12.0\n"
     ]
    }
   ],
   "source": [
    "def average_list():\n",
    "    \n",
    "    l = [4,8,12,16,20]\n",
    "    \n",
    "    result = sum(l)\n",
    "    \n",
    "    count = len(l)\n",
    "    \n",
    "    average = result/count\n",
    "    \n",
    "    return average\n",
    "\n",
    "print(\"Average of all:\", average_list())"
   ]
  },
  {
   "cell_type": "markdown",
   "metadata": {},
   "source": [
    "## Exception Handling"
   ]
  },
  {
   "cell_type": "markdown",
   "metadata": {},
   "source": [
    "## Type Error Exception"
   ]
  },
  {
   "cell_type": "code",
   "execution_count": 13,
   "metadata": {},
   "outputs": [
    {
     "ename": "TypeError",
     "evalue": "The second input must be a numerical value",
     "output_type": "error",
     "traceback": [
      "\u001b[1;31m---------------------------------------------------------------------------\u001b[0m",
      "\u001b[1;31mValueError\u001b[0m                                Traceback (most recent call last)",
      "Cell \u001b[1;32mIn[13], line 13\u001b[0m\n\u001b[0;32m     11\u001b[0m     num2 \u001b[38;5;241m=\u001b[39m \u001b[38;5;28minput\u001b[39m(\u001b[38;5;124m\"\u001b[39m\u001b[38;5;124mEnter the second number: \u001b[39m\u001b[38;5;124m\"\u001b[39m)\n\u001b[1;32m---> 13\u001b[0m     num2 \u001b[38;5;241m=\u001b[39m \u001b[38;5;28;43mfloat\u001b[39;49m\u001b[43m(\u001b[49m\u001b[43mnum2\u001b[49m\u001b[43m)\u001b[49m\n\u001b[0;32m     15\u001b[0m \u001b[38;5;28;01mexcept\u001b[39;00m \u001b[38;5;167;01mValueError\u001b[39;00m:\n",
      "\u001b[1;31mValueError\u001b[0m: could not convert string to float: 'huh'",
      "\nDuring handling of the above exception, another exception occurred:\n",
      "\u001b[1;31mTypeError\u001b[0m                                 Traceback (most recent call last)",
      "Cell \u001b[1;32mIn[13], line 17\u001b[0m\n\u001b[0;32m     13\u001b[0m     num2 \u001b[38;5;241m=\u001b[39m \u001b[38;5;28mfloat\u001b[39m(num2)\n\u001b[0;32m     15\u001b[0m \u001b[38;5;28;01mexcept\u001b[39;00m \u001b[38;5;167;01mValueError\u001b[39;00m:\n\u001b[1;32m---> 17\u001b[0m     \u001b[38;5;28;01mraise\u001b[39;00m \u001b[38;5;167;01mTypeError\u001b[39;00m(\u001b[38;5;124m\"\u001b[39m\u001b[38;5;124mThe second input must be a numerical value\u001b[39m\u001b[38;5;124m\"\u001b[39m)\n\u001b[0;32m     19\u001b[0m \u001b[38;5;28mprint\u001b[39m(\u001b[38;5;124mf\u001b[39m\u001b[38;5;124m\"\u001b[39m\u001b[38;5;124mThe numbers you entered are \u001b[39m\u001b[38;5;132;01m{\u001b[39;00mnum1\u001b[38;5;132;01m}\u001b[39;00m\u001b[38;5;124m and \u001b[39m\u001b[38;5;132;01m{\u001b[39;00mnum2\u001b[38;5;132;01m}\u001b[39;00m\u001b[38;5;124m\"\u001b[39m)\n",
      "\u001b[1;31mTypeError\u001b[0m: The second input must be a numerical value"
     ]
    }
   ],
   "source": [
    "try:\n",
    "    num1 = input(\"Enter the first number: \")\n",
    "    \n",
    "    num1 = float(num1)\n",
    "    \n",
    "except ValueError:\n",
    "    \n",
    "    raise TypeError(\"The first input must be a numerical value\")\n",
    "\n",
    "try:\n",
    "    num2 = input(\"Enter the second number: \")\n",
    "    \n",
    "    num2 = float(num2)\n",
    "    \n",
    "except ValueError:\n",
    "\n",
    "    raise TypeError(\"The second input must be a numerical value\")\n",
    "\n",
    "print(f\"The numbers you entered are {num1} and {num2}\")"
   ]
  },
  {
   "cell_type": "markdown",
   "metadata": {},
   "source": [
    "## KeyboardInterrupt exception"
   ]
  },
  {
   "cell_type": "code",
   "execution_count": 14,
   "metadata": {},
   "outputs": [
    {
     "name": "stdout",
     "output_type": "stream",
     "text": [
      "You entered: 3.0\n"
     ]
    }
   ],
   "source": [
    "try:\n",
    "    num = input(\"Enter a number:\")\n",
    "                \n",
    "    num = float(num)  # Attempt to convert input to a float\n",
    "                \n",
    "    print(f\"You entered: {num}\")\n",
    "                \n",
    "except KeyboardInterrupt:\n",
    "                \n",
    "    print(\"\\nOperation cancelled by user.\")\n",
    "                \n",
    "except ValueError:\n",
    "                \n",
    "    print(\"Invalid input. Please enter a valid number.\")"
   ]
  },
  {
   "cell_type": "markdown",
   "metadata": {},
   "source": [
    "## Write a Python program to read a file and print the content of the file. "
   ]
  },
  {
   "cell_type": "code",
   "execution_count": 22,
   "metadata": {},
   "outputs": [
    {
     "name": "stdout",
     "output_type": "stream",
     "text": [
      "I am Qadir bux \n",
      "How are you\n"
     ]
    },
    {
     "name": "stderr",
     "output_type": "stream",
     "text": [
      "<>:2: SyntaxWarning: invalid escape sequence '\\A'\n",
      "<>:2: SyntaxWarning: invalid escape sequence '\\A'\n",
      "C:\\Users\\deLL\\AppData\\Local\\Temp\\ipykernel_13624\\843944816.py:2: SyntaxWarning: invalid escape sequence '\\A'\n",
      "  f = open(\"D:\\AiBootCamp\\demo.txt\", \"r\")\n"
     ]
    }
   ],
   "source": [
    "# Open the file in read mode\n",
    "f = open(\"D:\\AiBootCamp\\demo.txt\", \"r\")\n",
    "\n",
    "# Read the contents of the file\n",
    "content = f.read()\n",
    "\n",
    "print(content)\n",
    "\n",
    "# Close the file\n",
    "f.close()"
   ]
  },
  {
   "cell_type": "markdown",
   "metadata": {},
   "source": [
    "## Write a Python program to read a file and print the first 5 lines of the file"
   ]
  },
  {
   "cell_type": "code",
   "execution_count": 24,
   "metadata": {},
   "outputs": [
    {
     "name": "stdout",
     "output_type": "stream",
     "text": [
      "I am Qadir bux \n",
      "How are you\n",
      "I am from hyd\n",
      "I study in city collage\n"
     ]
    },
    {
     "name": "stderr",
     "output_type": "stream",
     "text": [
      "<>:2: SyntaxWarning: invalid escape sequence '\\A'\n",
      "<>:2: SyntaxWarning: invalid escape sequence '\\A'\n",
      "C:\\Users\\deLL\\AppData\\Local\\Temp\\ipykernel_13624\\843944816.py:2: SyntaxWarning: invalid escape sequence '\\A'\n",
      "  f = open(\"D:\\AiBootCamp\\demo.txt\", \"r\")\n"
     ]
    }
   ],
   "source": [
    "# Open the file in read mode\n",
    "f = open(\"D:\\AiBootCamp\\demo.txt\", \"r\")\n",
    "\n",
    "# Read the contents of the file\n",
    "content = f.read()\n",
    "\n",
    "print(content)\n",
    "\n",
    "# Close the file\n",
    "f.close()"
   ]
  },
  {
   "cell_type": "markdown",
   "metadata": {},
   "source": [
    "## Write a Python program to read a file and print the first 5 characters of the file."
   ]
  },
  {
   "cell_type": "code",
   "execution_count": 25,
   "metadata": {},
   "outputs": [
    {
     "name": "stdout",
     "output_type": "stream",
     "text": [
      "Hello I am Qadir bux \n",
      "\n"
     ]
    },
    {
     "name": "stderr",
     "output_type": "stream",
     "text": [
      "<>:2: SyntaxWarning: invalid escape sequence '\\A'\n",
      "<>:2: SyntaxWarning: invalid escape sequence '\\A'\n",
      "C:\\Users\\deLL\\AppData\\Local\\Temp\\ipykernel_13624\\2715818972.py:2: SyntaxWarning: invalid escape sequence '\\A'\n",
      "  f = open(\"D:\\AiBootCamp\\demo.txt\", \"r\")\n"
     ]
    }
   ],
   "source": [
    "# Open the file in read mode\n",
    "f = open(\"D:\\AiBootCamp\\demo.txt\", \"r\")\n",
    "\n",
    "# Read the contents of the file\n",
    "content = f.readline()\n",
    "\n",
    "print(content)\n",
    "\n",
    "# Close the file\n",
    "f.close()"
   ]
  },
  {
   "cell_type": "code",
   "execution_count": null,
   "metadata": {},
   "outputs": [],
   "source": []
  }
 ],
 "metadata": {
  "kernelspec": {
   "display_name": "Python 3",
   "language": "python",
   "name": "python3"
  },
  "language_info": {
   "codemirror_mode": {
    "name": "ipython",
    "version": 3
   },
   "file_extension": ".py",
   "mimetype": "text/x-python",
   "name": "python",
   "nbconvert_exporter": "python",
   "pygments_lexer": "ipython3",
   "version": "3.12.4"
  }
 },
 "nbformat": 4,
 "nbformat_minor": 2
}
