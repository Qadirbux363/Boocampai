{
 "cells": [
  {
   "cell_type": "markdown",
   "metadata": {},
   "source": [
    "# Qadir bux\n",
    "## Assignment 1 - Day 1 - 13-06-2024"
   ]
  },
  {
   "cell_type": "code",
   "execution_count": 1,
   "metadata": {},
   "outputs": [
    {
     "name": "stdout",
     "output_type": "stream",
     "text": [
      "Qadirbux\n",
      "17\n",
      "BSIT\n",
      "hyderabad\n"
     ]
    }
   ],
   "source": [
    "# Vareables\n",
    "name=\"Qadirbux\"\n",
    "age=17\n",
    "study=\"BSIT\"\n",
    "add=\"hyderabad\"\n",
    "print(name)\n",
    "print(age)\n",
    "print(study)\n",
    "print(add)"
   ]
  },
  {
   "cell_type": "markdown",
   "metadata": {},
   "source": [
    "- What are reserved words in Python?"
   ]
  },
  {
   "cell_type": "markdown",
   "metadata": {},
   "source": [
    "Python reserved words designate special language functionality. No other variable can have the same name as these keywords. We read about all the reserved keywords and how to check if the name is a keyword or not. One can learn about more Python concepts here."
   ]
  },
  {
   "cell_type": "markdown",
   "metadata": {},
   "source": [
    "-Examples"
   ]
  },
  {
   "cell_type": "code",
   "execution_count": 2,
   "metadata": {},
   "outputs": [
    {
     "name": "stdout",
     "output_type": "stream",
     "text": [
      "hello\n",
      "2\n",
      "3.5\n"
     ]
    }
   ],
   "source": [
    "# string\n",
    "print(\"hello\")\n",
    "# int\n",
    "print(2)\n",
    "# float\n",
    "print(3.5)\n"
   ]
  },
  {
   "cell_type": "markdown",
   "metadata": {},
   "source": [
    "- what is difference between single and double quotes in Python?"
   ]
  },
  {
   "cell_type": "markdown",
   "metadata": {},
   "source": [
    "Generally, double quotes are used for string representation and single quotes are used for regular expressions, dict keys or SQL. Hence both single quote and double quotes depict string in python but it’s sometimes our need to use one type over the other. \"This course is very well structured and easy to learn."
   ]
  },
  {
   "cell_type": "markdown",
   "metadata": {},
   "source": [
    "-Examples"
   ]
  },
  {
   "cell_type": "code",
   "execution_count": 3,
   "metadata": {},
   "outputs": [
    {
     "name": "stdout",
     "output_type": "stream",
     "text": [
      "qadir, how are you!\n",
      "qadir hope you are doing great!\n"
     ]
    }
   ],
   "source": [
    "# Single quotes\n",
    "single_quote_str = 'qadir, how are you!'\n",
    "print(single_quote_str)\n",
    "\n",
    "# Double quotes\n",
    "double_quote_str = \"qadir hope you are doing great!\"\n",
    "print(double_quote_str)"
   ]
  },
  {
   "cell_type": "markdown",
   "metadata": {},
   "source": [
    "- What is the difference between variable and identifier?"
   ]
  },
  {
   "cell_type": "markdown",
   "metadata": {},
   "source": [
    "Difference between Identifier and Variable - An Identifier is a name assigned to an entity in a computer program so that it can be identified distinctly in the program during its execution. On the other hand, a variable is a name assigned to a memory location that stores a value."
   ]
  },
  {
   "cell_type": "markdown",
   "metadata": {},
   "source": [
    "-Examples"
   ]
  },
  {
   "cell_type": "code",
   "execution_count": 4,
   "metadata": {},
   "outputs": [],
   "source": [
    "scor = 25                          #Variable\n",
    "\n",
    "student_name = \"qadir bux\"      #Identifier "
   ]
  },
  {
   "cell_type": "markdown",
   "metadata": {},
   "source": [
    "- What is the difference between variable and constant?"
   ]
  },
  {
   "cell_type": "markdown",
   "metadata": {},
   "source": [
    "Constants are usually written in numbers (whether fractions, integers, decimals or real numbers). Variables are written as letters or symbols. Constants usually represent the known values in an equation or expression. Variables, on the other hand, represent unknown values. Constants have fixed face values. Variables do not have a fixed face value.\n"
   ]
  },
  {
   "cell_type": "markdown",
   "metadata": {},
   "source": [
    "-Examples"
   ]
  },
  {
   "cell_type": "code",
   "execution_count": 5,
   "metadata": {},
   "outputs": [
    {
     "name": "stdout",
     "output_type": "stream",
     "text": [
      "Initial value of x: 10\n",
      "Updated value of x: 20\n",
      "Value of PI: 2334\n"
     ]
    }
   ],
   "source": [
    "# Variable assignment\n",
    "x = 10\n",
    "print(\"Initial value of x:\", x)\n",
    "\n",
    "# Update variable value\n",
    "x = 20\n",
    "print(\"Updated value of x:\", x)\n",
    "\n",
    "\n",
    "\n",
    "# Constant declaration (typically represented in Python by naming convention)\n",
    "PI = 2334\n",
    "print(\"Value of PI:\", PI)\n",
    "\n",
    "# Attempt to change constant value (will result in an error)\n",
    "PI = 3.14  # This will raise an error: \"SyntaxError: cannot assign to variable named 'PI'"
   ]
  },
  {
   "cell_type": "code",
   "execution_count": null,
   "metadata": {},
   "outputs": [],
   "source": [
    "\n"
   ]
  },
  {
   "cell_type": "code",
   "execution_count": 1,
   "metadata": {},
   "outputs": [],
   "source": []
  }
 ],
 "metadata": {
  "kernelspec": {
   "display_name": "Python 3",
   "language": "python",
   "name": "python3"
  },
  "language_info": {
   "codemirror_mode": {
    "name": "ipython",
    "version": 3
   },
   "file_extension": ".py",
   "mimetype": "text/x-python",
   "name": "python",
   "nbconvert_exporter": "python",
   "pygments_lexer": "ipython3",
   "version": "3.12.4"
  }
 },
 "nbformat": 4,
 "nbformat_minor": 2
}
