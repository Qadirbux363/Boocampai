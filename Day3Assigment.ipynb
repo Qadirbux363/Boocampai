{
 "cells": [
  {
   "cell_type": "markdown",
   "metadata": {},
   "source": [
    "# Qadir Bux\n",
    "## Assignment Day-3\n",
    "Conditional Statement"
   ]
  },
  {
   "cell_type": "markdown",
   "metadata": {},
   "source": [
    "Get user input using input(“Enter your age: ”). If user is 18 you can apply for job or yor age is not 18 you can not apply"
   ]
  },
  {
   "cell_type": "code",
   "execution_count": 6,
   "metadata": {},
   "outputs": [
    {
     "name": "stdout",
     "output_type": "stream",
     "text": [
      "you can Apply for job\n"
     ]
    }
   ],
   "source": [
    "age = int(input(\"Enter your Age\"))\n",
    "if age >= 18:\n",
    "    print(\"you can Apply for job\")\n",
    "\n",
    "\n",
    "    \n",
    "else:\n",
    "\n",
    "    wait_for_years = 18 - age\n",
    "    print(f\"You need {wait_for_years} more years to Apply jobs\")\n",
    "\n"
   ]
  },
  {
   "cell_type": "markdown",
   "metadata": {},
   "source": [
    "Compare the values of my_age and your_age using if … else. Who is older (me or you)? Use input(“Enter your age: ”) to get the age as input.You can use a nested condition to print 'year' for 1 year difference in age, 'years' for bigger differences, and a custom text if my_age = your_age. Output:"
   ]
  },
  {
   "cell_type": "code",
   "execution_count": 9,
   "metadata": {},
   "outputs": [
    {
     "name": "stdout",
     "output_type": "stream",
     "text": [
      "You are 11 year older then me\n"
     ]
    }
   ],
   "source": [
    "my_age = 19\n",
    "\n",
    "your_age = int(input(\"Enter your age:\"))\n",
    "\n",
    "if your_age > my_age:\n",
    "    \n",
    "    age_difference = your_age - my_age\n",
    "    \n",
    "    if age_difference == 1:\n",
    "        \n",
    "        print(f\"You are {age_diffrence} year older then me\")\n",
    "              \n",
    "    else:\n",
    "              print(f\"You are {age_difference} year older then me\")\n",
    "              \n",
    "elif your_age < my_age:\n",
    "    \n",
    "    age_difference = my_age - your_age\n",
    "    \n",
    "    if age_difference == 1:\n",
    "        \n",
    "        print(f\"I am {age_difference} year older than you.\")\n",
    "        \n",
    "    else:\n",
    "        \n",
    "        print(f\"I am {age_difference} years older than you.\")\n",
    "else:\n",
    "    \n",
    "    print(\"We are the same age!\")              \n",
    "    "
   ]
  },
  {
   "cell_type": "markdown",
   "metadata": {},
   "source": [
    "Get two numbers from the user using input prompt. If c is greater than b return c is greater than b, if c is less b return c is smaller than b, else c is equal to b."
   ]
  },
  {
   "cell_type": "code",
   "execution_count": 10,
   "metadata": {},
   "outputs": [
    {
     "name": "stdout",
     "output_type": "stream",
     "text": [
      "Number two is greater then one :  30\n"
     ]
    }
   ],
   "source": [
    "num1 = int(input(\"Enter Number one: \"))\n",
    "num2 = int(input(\"Enter Number two: \"))\n",
    "\n",
    "if num1 > num2:\n",
    "    print(\"Number one is Greater then Number Two : \",num1)\n",
    "    \n",
    "elif num1 < num2 :\n",
    "        print(\"Number two is greater then one : \", num2)\n",
    "        \n",
    "    \n",
    "else:        \n",
    "    print(\"Both are Equal\")"
   ]
  },
  {
   "cell_type": "markdown",
   "metadata": {},
   "source": [
    "Write a code which gives grade to students according to theirs scores:"
   ]
  },
  {
   "cell_type": "code",
   "execution_count": 11,
   "metadata": {},
   "outputs": [
    {
     "name": "stdout",
     "output_type": "stream",
     "text": [
      "You Secure A Grade\n"
     ]
    }
   ],
   "source": [
    "marks = int(input(\"Enter Students Marks:\"))\n",
    "\n",
    "if marks >= 90:\n",
    "    print(\"You Secured A+1 Grade\")\n",
    "    \n",
    "elif marks >=80 and marks <=89:\n",
    "    print(\"You Secure A Grade\")\n",
    "    \n",
    "elif marks >=70 and marks <= 79:\n",
    "    print(\"You Secured B Grade\")\n",
    "    \n",
    "elif marks >=60 and marks <=69:\n",
    "    print(\"You Secured C Grade\")\n",
    "    \n",
    "else:\n",
    "    print(\"You are Fail\")\n",
    "    "
   ]
  },
  {
   "cell_type": "code",
   "execution_count": 14,
   "metadata": {},
   "outputs": [
    {
     "name": "stdout",
     "output_type": "stream",
     "text": [
      "Center is oppen\n"
     ]
    }
   ],
   "source": [
    "days = input(\"Enter name of Days:\")\n",
    "\n",
    "if days in [\"Monday\"]:\n",
    "    \n",
    "    print(\"Center is closed\")\n",
    "    \n",
    "elif days in [\"Tuesday\"] :\n",
    "    \n",
    "    print(\"Center is closed\")\n",
    "    \n",
    "elif days in [\"Wednesday\",\"Thursday\",\"friday\"]:\n",
    "\n",
    "    \n",
    "    print(\"Center is oppen\")\n",
    "    \n",
    "elif days in [\"Saturday\",\"Sunday\"]:\n",
    "    \n",
    "    print(\"Center is closed\")"
   ]
  },
  {
   "cell_type": "code",
   "execution_count": 12,
   "metadata": {},
   "outputs": [
    {
     "name": "stdout",
     "output_type": "stream",
     "text": [
      "Modify List ['chary', 'banana', 'Mango', 'Orange', 'Lemon']\n"
     ]
    }
   ],
   "source": [
    "Fruits = [\"chary\",\"banana\",\"Mango\",\"Orange\"]\n",
    "\n",
    "fruit_to_add = \"Lemon\"\n",
    "\n",
    "if fruit_to_add in Fruits:\n",
    "    print(\"It already exist\")\n",
    "    \n",
    "else:\n",
    "    Fruits.append(\"Lemon\")\n",
    "    \n",
    "    print(\"Modify List\",Fruits)"
   ]
  },
  {
   "cell_type": "code",
   "execution_count": 15,
   "metadata": {},
   "outputs": [],
   "source": [
    "\n"
   ]
  },
  {
   "cell_type": "code",
   "execution_count": null,
   "metadata": {},
   "outputs": [],
   "source": []
  },
  {
   "cell_type": "code",
   "execution_count": 2,
   "metadata": {},
   "outputs": [
    {
     "name": "stdout",
     "output_type": "stream",
     "text": [
      "15\n"
     ]
    }
   ],
   "source": []
  }
 ],
 "metadata": {
  "kernelspec": {
   "display_name": "Python 3",
   "language": "python",
   "name": "python3"
  },
  "language_info": {
   "codemirror_mode": {
    "name": "ipython",
    "version": 3
   },
   "file_extension": ".py",
   "mimetype": "text/x-python",
   "name": "python",
   "nbconvert_exporter": "python",
   "pygments_lexer": "ipython3",
   "version": "3.12.4"
  }
 },
 "nbformat": 4,
 "nbformat_minor": 2
}
